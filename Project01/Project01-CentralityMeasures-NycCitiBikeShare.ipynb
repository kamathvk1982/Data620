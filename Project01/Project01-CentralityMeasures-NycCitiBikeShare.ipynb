{
 "cells": [
  {
   "cell_type": "markdown",
   "id": "987da827-1567-4f01-806f-687b66c830b4",
   "metadata": {},
   "source": [
    "<b>Web Analytics DATA 620 - Project 01</b>\n",
    "\n",
    "<b>Assignment: “Centrality Measures”</b>\n",
    "\n",
    "<b>Group - Chris Bloome / Mustafa Telab / Vinayak Kamath</b>\n",
    "\n",
    "<b>Date - 16th June 2021</b>\n",
    "\n",
    "--- \n",
    "\n",
    "For your first project, you are asked to\n",
    "\n",
    "Identify and load a network dataset that has some categorical information available for each node.\n",
    "For each of the nodes in the dataset, calculate degree centrality and eigenvector centrality.\n",
    "Compare your centrality measures across your categorical groups.\n"
   ]
  },
  {
   "cell_type": "markdown",
   "id": "707c847e-9c1d-4ba9-b7e0-83c62ab97742",
   "metadata": {},
   "source": [
    "---"
   ]
  },
  {
   "cell_type": "markdown",
   "id": "460459d2-0644-4a9a-8e00-82b82dff0578",
   "metadata": {},
   "source": [
    "<b>Bike Share Systems (BSS) collection - Citi Bike Trip Histories - New York City</b>\n",
    "\n"
   ]
  },
  {
   "cell_type": "markdown",
   "id": "11e0c371-d95c-4d0e-ac10-1e93f1a4281a",
   "metadata": {},
   "source": [
    "Experience NYC in a whole new way - Citi Bike is the nation's largest bike share program, with 20,000 bikes and over 1,300 stations across Manhattan, Brooklyn, Queens, the Bronx and Jersey City. It was designed for quick trips with convenience in mind, and it’s a fun and affordable way to get around town."
   ]
  },
  {
   "cell_type": "markdown",
   "id": "117c592a-0fec-4800-808f-8fe55a34b19b",
   "metadata": {},
   "source": [
    "The source of the data is citibikenyc.com; The csv file <b>data</b> includes:\n",
    "\n",
    " - Trip Duration (seconds)\n",
    " - Start Time and Date\n",
    " - Stop Time and Date\n",
    " - Start Station Name\n",
    " - End Station Name\n",
    " - Station ID\n",
    " - Station Lat/Long\n",
    " - Bike ID\n",
    " - User Type (Customer = 24-hour pass or 3-day pass user; Subscriber = Annual Member)\n",
    " - Gender (Zero=unknown; 1=male; 2=female)\n",
    " - Year of Birth\n",
    "\n",
    "For our analysis here we are using data of April 2021 month.\n",
    "\n",
    "\n",
    "<table  style=\"float:left\">\n",
    "    <tr><th>Name</th><th>Date Modified</th><th>Size</th><th>Type</th></tr>\n",
    "    <tr><td>202104-citibike-tripdata.csv.zip</td><td>May 7th 2021, 10:56:18 am</td><td>89.92 MB</td><td>ZIP file (csv)</td></tr>\n",
    "</table>\n"
   ]
  },
  {
   "cell_type": "markdown",
   "id": "a897189f-eb3a-46fb-8d61-b99e4d427676",
   "metadata": {},
   "source": [
    "<b>Analysis Plan</b>\n",
    "1. We will load the csv data into a temp object and then pull the distinct nodes and its characteristics and the linkages between the nodes.\n",
    "  - The Nodes represent the User, the bikes,  and the Stations. The User node having characterisitics of Type, Gender, and Year of birth and the Station node having the characteristics of  latitude and logitude. The Bike node has no characteristics other then a unique Id.\n",
    "  - The linkages represet the trips between start station and stop station.\n",
    "\n",
    "2. Degree centrality is defined as the Number of incoming links to a node. We can check the station having the maximum number of trips to it and we can further to see if the same station has the maximum degree centrality for each gender type and/or user types. \n"
   ]
  },
  {
   "cell_type": "markdown",
   "id": "7e2782f8-bd35-4ee5-960f-fd731a2fcb6a",
   "metadata": {},
   "source": [
    "---"
   ]
  },
  {
   "cell_type": "code",
   "execution_count": 1,
   "id": "fdc62764",
   "metadata": {},
   "outputs": [],
   "source": [
    "#Import required libraries\n",
    "import networkx as nx\n",
    "import matplotlib.pyplot as plt\n",
    "import pandas as pd\n",
    "import numpy as np\n",
    "\n",
    "from matplotlib.pyplot import figure\n",
    "from networkx_query import search_nodes, search_edges\n"
   ]
  },
  {
   "cell_type": "markdown",
   "id": "c8d8431d",
   "metadata": {},
   "source": [
    "We will firsrt load the data CSV data file into a panda dataframe."
   ]
  },
  {
   "cell_type": "code",
   "execution_count": 2,
   "id": "243644fc",
   "metadata": {},
   "outputs": [],
   "source": [
    "#loading csv file \n",
    "df = pd.read_csv('201306-citibike-tripdata-small.csv')\n",
    "\n",
    "#Droping NAN value rows\n",
    "df = df.replace('',np.nan)\n",
    "df = df.dropna(axis=\"rows\", how=\"any\")\n",
    "\n",
    "#Cleaning up the data for the column `gender` to convert the categorical values Zero=unknown; 1=male; 2=female;\n",
    "df['gender'].replace(to_replace=[0, 1, 2], value=['unknown', 'male', 'female'], inplace=True)"
   ]
  },
  {
   "cell_type": "code",
   "execution_count": 3,
   "id": "c892d876",
   "metadata": {},
   "outputs": [
    {
     "data": {
      "text/html": [
       "<div>\n",
       "<style scoped>\n",
       "    .dataframe tbody tr th:only-of-type {\n",
       "        vertical-align: middle;\n",
       "    }\n",
       "\n",
       "    .dataframe tbody tr th {\n",
       "        vertical-align: top;\n",
       "    }\n",
       "\n",
       "    .dataframe thead th {\n",
       "        text-align: right;\n",
       "    }\n",
       "</style>\n",
       "<table border=\"1\" class=\"dataframe\">\n",
       "  <thead>\n",
       "    <tr style=\"text-align: right;\">\n",
       "      <th></th>\n",
       "      <th>tripduration</th>\n",
       "      <th>starttime</th>\n",
       "      <th>stoptime</th>\n",
       "      <th>start_station_id</th>\n",
       "      <th>start_station_name</th>\n",
       "      <th>start_station_latitude</th>\n",
       "      <th>start_station_longitude</th>\n",
       "      <th>end_station_id</th>\n",
       "      <th>end_station_name</th>\n",
       "      <th>end_station_latitude</th>\n",
       "      <th>end_station_longitude</th>\n",
       "      <th>bikeid</th>\n",
       "      <th>usertype</th>\n",
       "      <th>birth_year</th>\n",
       "      <th>gender</th>\n",
       "    </tr>\n",
       "  </thead>\n",
       "  <tbody>\n",
       "    <tr>\n",
       "      <th>0</th>\n",
       "      <td>695</td>\n",
       "      <td>6/1/2013 0:00</td>\n",
       "      <td>6/1/2013 0:11</td>\n",
       "      <td>444</td>\n",
       "      <td>Broadway &amp; W 24 St</td>\n",
       "      <td>40.742354</td>\n",
       "      <td>-73.989151</td>\n",
       "      <td>434.0</td>\n",
       "      <td>9 Ave &amp; W 18 St</td>\n",
       "      <td>40.743174</td>\n",
       "      <td>-74.003664</td>\n",
       "      <td>19678</td>\n",
       "      <td>Subscriber</td>\n",
       "      <td>1983.0</td>\n",
       "      <td>male</td>\n",
       "    </tr>\n",
       "    <tr>\n",
       "      <th>1</th>\n",
       "      <td>693</td>\n",
       "      <td>6/1/2013 0:00</td>\n",
       "      <td>6/1/2013 0:11</td>\n",
       "      <td>444</td>\n",
       "      <td>Broadway &amp; W 24 St</td>\n",
       "      <td>40.742354</td>\n",
       "      <td>-73.989151</td>\n",
       "      <td>434.0</td>\n",
       "      <td>9 Ave &amp; W 18 St</td>\n",
       "      <td>40.743174</td>\n",
       "      <td>-74.003664</td>\n",
       "      <td>16649</td>\n",
       "      <td>Subscriber</td>\n",
       "      <td>1984.0</td>\n",
       "      <td>male</td>\n",
       "    </tr>\n",
       "    <tr>\n",
       "      <th>3</th>\n",
       "      <td>123</td>\n",
       "      <td>6/1/2013 0:01</td>\n",
       "      <td>6/1/2013 0:03</td>\n",
       "      <td>475</td>\n",
       "      <td>E 15 St &amp; Irving Pl</td>\n",
       "      <td>40.735243</td>\n",
       "      <td>-73.987586</td>\n",
       "      <td>262.0</td>\n",
       "      <td>Washington Park</td>\n",
       "      <td>40.691782</td>\n",
       "      <td>-73.973730</td>\n",
       "      <td>16352</td>\n",
       "      <td>Subscriber</td>\n",
       "      <td>1960.0</td>\n",
       "      <td>male</td>\n",
       "    </tr>\n",
       "    <tr>\n",
       "      <th>4</th>\n",
       "      <td>1521</td>\n",
       "      <td>6/1/2013 0:01</td>\n",
       "      <td>6/1/2013 0:26</td>\n",
       "      <td>2008</td>\n",
       "      <td>Little West St &amp; 1 Pl</td>\n",
       "      <td>40.705693</td>\n",
       "      <td>-74.016777</td>\n",
       "      <td>310.0</td>\n",
       "      <td>State St &amp; Smith St</td>\n",
       "      <td>40.689269</td>\n",
       "      <td>-73.989129</td>\n",
       "      <td>15567</td>\n",
       "      <td>Subscriber</td>\n",
       "      <td>1983.0</td>\n",
       "      <td>male</td>\n",
       "    </tr>\n",
       "    <tr>\n",
       "      <th>6</th>\n",
       "      <td>2057</td>\n",
       "      <td>6/1/2013 0:02</td>\n",
       "      <td>6/1/2013 0:36</td>\n",
       "      <td>285</td>\n",
       "      <td>Broadway &amp; E 14 St</td>\n",
       "      <td>40.734546</td>\n",
       "      <td>-73.990741</td>\n",
       "      <td>532.0</td>\n",
       "      <td>S 5 Pl &amp; S 5 St</td>\n",
       "      <td>40.710451</td>\n",
       "      <td>-73.960876</td>\n",
       "      <td>15693</td>\n",
       "      <td>Subscriber</td>\n",
       "      <td>1991.0</td>\n",
       "      <td>male</td>\n",
       "    </tr>\n",
       "    <tr>\n",
       "      <th>...</th>\n",
       "      <td>...</td>\n",
       "      <td>...</td>\n",
       "      <td>...</td>\n",
       "      <td>...</td>\n",
       "      <td>...</td>\n",
       "      <td>...</td>\n",
       "      <td>...</td>\n",
       "      <td>...</td>\n",
       "      <td>...</td>\n",
       "      <td>...</td>\n",
       "      <td>...</td>\n",
       "      <td>...</td>\n",
       "      <td>...</td>\n",
       "      <td>...</td>\n",
       "      <td>...</td>\n",
       "    </tr>\n",
       "    <tr>\n",
       "      <th>127577</th>\n",
       "      <td>2812</td>\n",
       "      <td>6/11/2013 17:47</td>\n",
       "      <td>6/11/2013 18:34</td>\n",
       "      <td>448</td>\n",
       "      <td>W 37 St &amp; 10 Ave</td>\n",
       "      <td>40.756604</td>\n",
       "      <td>-73.997901</td>\n",
       "      <td>502.0</td>\n",
       "      <td>Henry St &amp; Grand St</td>\n",
       "      <td>40.714215</td>\n",
       "      <td>-73.981346</td>\n",
       "      <td>19361</td>\n",
       "      <td>Subscriber</td>\n",
       "      <td>1963.0</td>\n",
       "      <td>male</td>\n",
       "    </tr>\n",
       "    <tr>\n",
       "      <th>127578</th>\n",
       "      <td>294</td>\n",
       "      <td>6/11/2013 17:48</td>\n",
       "      <td>6/11/2013 17:53</td>\n",
       "      <td>251</td>\n",
       "      <td>Mott St &amp; Prince St</td>\n",
       "      <td>40.723180</td>\n",
       "      <td>-73.994800</td>\n",
       "      <td>128.0</td>\n",
       "      <td>MacDougal St &amp; Prince St</td>\n",
       "      <td>40.727103</td>\n",
       "      <td>-74.002971</td>\n",
       "      <td>17886</td>\n",
       "      <td>Subscriber</td>\n",
       "      <td>1962.0</td>\n",
       "      <td>male</td>\n",
       "    </tr>\n",
       "    <tr>\n",
       "      <th>127579</th>\n",
       "      <td>407</td>\n",
       "      <td>6/11/2013 17:47</td>\n",
       "      <td>6/11/2013 17:54</td>\n",
       "      <td>496</td>\n",
       "      <td>E 16 St &amp; 5 Ave</td>\n",
       "      <td>40.737262</td>\n",
       "      <td>-73.992390</td>\n",
       "      <td>369.0</td>\n",
       "      <td>Washington Pl &amp; 6 Ave</td>\n",
       "      <td>40.732241</td>\n",
       "      <td>-74.000264</td>\n",
       "      <td>16968</td>\n",
       "      <td>Subscriber</td>\n",
       "      <td>1987.0</td>\n",
       "      <td>male</td>\n",
       "    </tr>\n",
       "    <tr>\n",
       "      <th>127580</th>\n",
       "      <td>525</td>\n",
       "      <td>6/11/2013 17:39</td>\n",
       "      <td>6/11/2013 17:47</td>\n",
       "      <td>318</td>\n",
       "      <td>E 43 St &amp; Vanderbilt Ave</td>\n",
       "      <td>40.753202</td>\n",
       "      <td>-73.977987</td>\n",
       "      <td>472.0</td>\n",
       "      <td>E 32 St &amp; Park Ave</td>\n",
       "      <td>40.745712</td>\n",
       "      <td>-73.981948</td>\n",
       "      <td>19928</td>\n",
       "      <td>Subscriber</td>\n",
       "      <td>1959.0</td>\n",
       "      <td>male</td>\n",
       "    </tr>\n",
       "    <tr>\n",
       "      <th>127581</th>\n",
       "      <td>889</td>\n",
       "      <td>6/11/2013 17:47</td>\n",
       "      <td>6/11/2013 18:01</td>\n",
       "      <td>237</td>\n",
       "      <td>E 11 St &amp; 2 Ave</td>\n",
       "      <td>40.730473</td>\n",
       "      <td>-73.986724</td>\n",
       "      <td>469.0</td>\n",
       "      <td>Broadway &amp; W 53 St</td>\n",
       "      <td>40.763441</td>\n",
       "      <td>-73.982681</td>\n",
       "      <td>18068</td>\n",
       "      <td>Subscriber</td>\n",
       "      <td>1962.0</td>\n",
       "      <td>male</td>\n",
       "    </tr>\n",
       "  </tbody>\n",
       "</table>\n",
       "<p>58334 rows × 15 columns</p>\n",
       "</div>"
      ],
      "text/plain": [
       "        tripduration        starttime         stoptime  start_station_id  \\\n",
       "0                695    6/1/2013 0:00    6/1/2013 0:11               444   \n",
       "1                693    6/1/2013 0:00    6/1/2013 0:11               444   \n",
       "3                123    6/1/2013 0:01    6/1/2013 0:03               475   \n",
       "4               1521    6/1/2013 0:01    6/1/2013 0:26              2008   \n",
       "6               2057    6/1/2013 0:02    6/1/2013 0:36               285   \n",
       "...              ...              ...              ...               ...   \n",
       "127577          2812  6/11/2013 17:47  6/11/2013 18:34               448   \n",
       "127578           294  6/11/2013 17:48  6/11/2013 17:53               251   \n",
       "127579           407  6/11/2013 17:47  6/11/2013 17:54               496   \n",
       "127580           525  6/11/2013 17:39  6/11/2013 17:47               318   \n",
       "127581           889  6/11/2013 17:47  6/11/2013 18:01               237   \n",
       "\n",
       "              start_station_name  start_station_latitude  \\\n",
       "0             Broadway & W 24 St               40.742354   \n",
       "1             Broadway & W 24 St               40.742354   \n",
       "3            E 15 St & Irving Pl               40.735243   \n",
       "4          Little West St & 1 Pl               40.705693   \n",
       "6             Broadway & E 14 St               40.734546   \n",
       "...                          ...                     ...   \n",
       "127577          W 37 St & 10 Ave               40.756604   \n",
       "127578       Mott St & Prince St               40.723180   \n",
       "127579           E 16 St & 5 Ave               40.737262   \n",
       "127580  E 43 St & Vanderbilt Ave               40.753202   \n",
       "127581           E 11 St & 2 Ave               40.730473   \n",
       "\n",
       "        start_station_longitude  end_station_id          end_station_name  \\\n",
       "0                    -73.989151           434.0           9 Ave & W 18 St   \n",
       "1                    -73.989151           434.0           9 Ave & W 18 St   \n",
       "3                    -73.987586           262.0           Washington Park   \n",
       "4                    -74.016777           310.0       State St & Smith St   \n",
       "6                    -73.990741           532.0           S 5 Pl & S 5 St   \n",
       "...                         ...             ...                       ...   \n",
       "127577               -73.997901           502.0       Henry St & Grand St   \n",
       "127578               -73.994800           128.0  MacDougal St & Prince St   \n",
       "127579               -73.992390           369.0     Washington Pl & 6 Ave   \n",
       "127580               -73.977987           472.0        E 32 St & Park Ave   \n",
       "127581               -73.986724           469.0        Broadway & W 53 St   \n",
       "\n",
       "        end_station_latitude  end_station_longitude  bikeid    usertype  \\\n",
       "0                  40.743174             -74.003664   19678  Subscriber   \n",
       "1                  40.743174             -74.003664   16649  Subscriber   \n",
       "3                  40.691782             -73.973730   16352  Subscriber   \n",
       "4                  40.689269             -73.989129   15567  Subscriber   \n",
       "6                  40.710451             -73.960876   15693  Subscriber   \n",
       "...                      ...                    ...     ...         ...   \n",
       "127577             40.714215             -73.981346   19361  Subscriber   \n",
       "127578             40.727103             -74.002971   17886  Subscriber   \n",
       "127579             40.732241             -74.000264   16968  Subscriber   \n",
       "127580             40.745712             -73.981948   19928  Subscriber   \n",
       "127581             40.763441             -73.982681   18068  Subscriber   \n",
       "\n",
       "        birth_year gender  \n",
       "0           1983.0   male  \n",
       "1           1984.0   male  \n",
       "3           1960.0   male  \n",
       "4           1983.0   male  \n",
       "6           1991.0   male  \n",
       "...            ...    ...  \n",
       "127577      1963.0   male  \n",
       "127578      1962.0   male  \n",
       "127579      1987.0   male  \n",
       "127580      1959.0   male  \n",
       "127581      1962.0   male  \n",
       "\n",
       "[58334 rows x 15 columns]"
      ]
     },
     "execution_count": 3,
     "metadata": {},
     "output_type": "execute_result"
    }
   ],
   "source": [
    "#Viewing the data\n",
    "df"
   ]
  },
  {
   "cell_type": "code",
   "execution_count": 4,
   "id": "f8d410e0",
   "metadata": {},
   "outputs": [],
   "source": [
    "#creating the networkx graph object\n",
    "Graphtype = nx.Graph()\n",
    "G = nx.from_pandas_edgelist(df, source='start_station_name', target ='end_station_name'\n",
    "                            , edge_attr=['tripduration','bikeid','usertype','birth_year','gender']\n",
    "                            , create_using=nx.MultiDiGraph(directed=True))"
   ]
  },
  {
   "cell_type": "code",
   "execution_count": 5,
   "id": "e86ba7e7",
   "metadata": {},
   "outputs": [
    {
     "name": "stdout",
     "output_type": "stream",
     "text": [
      "Name: \n",
      "Type: MultiDiGraph\n",
      "Number of nodes: 335\n",
      "Number of edges: 58334\n",
      "Average in degree: 174.1313\n",
      "Average out degree: 174.1313\n"
     ]
    }
   ],
   "source": [
    "print(nx.info(G))"
   ]
  },
  {
   "cell_type": "markdown",
   "id": "f76835cf",
   "metadata": {},
   "source": [
    "Next, we’ll materialize the graph we created with the help of matplotlib for formatting."
   ]
  },
  {
   "cell_type": "code",
   "execution_count": null,
   "id": "4352f0e8",
   "metadata": {},
   "outputs": [],
   "source": [
    "figure(figsize=(30, 24))\n",
    "nx.draw_kamada_kawai(G, arrows=True, with_labels=True,  node_color='#00b4d9'\n",
    "                     , font_color='red', font_size =25, font_weight='bold')"
   ]
  },
  {
   "cell_type": "markdown",
   "id": "6119d63a",
   "metadata": {},
   "source": [
    "We will now analyze Degree centrality for our graph as defined as the Number of incoming links to a node. We can check the station having the maximum number of trips to it by using the in_degree method."
   ]
  },
  {
   "cell_type": "code",
   "execution_count": null,
   "id": "6d1e09f2",
   "metadata": {},
   "outputs": [],
   "source": [
    "leaderboard = {}\n",
    "for x in G.nodes:\n",
    " leaderboard[x] = G.in_degree[x]\n",
    "s = pd.Series(leaderboard, name='in_connections')\n",
    "df2 = s.to_frame().sort_values('in_connections', ascending=False)"
   ]
  },
  {
   "cell_type": "code",
   "execution_count": null,
   "id": "39701da1",
   "metadata": {},
   "outputs": [],
   "source": [
    "df2.head()"
   ]
  },
  {
   "cell_type": "markdown",
   "id": "d2c9e694",
   "metadata": {},
   "source": [
    "Based on above we can see that \"E 17 St & Broadway\"has the max in connection or degree centrality for the month of April, 2021.\n",
    "\n",
    "we can further check if this holds true for each gender type and/or user types"
   ]
  },
  {
   "cell_type": "code",
   "execution_count": null,
   "id": "d07fd8c7",
   "metadata": {},
   "outputs": [],
   "source": [
    "#dataframe having male gender dataset\n",
    "df_male = df[df['gender']=='male']\n",
    "\n",
    "#creating the networkx graph object\n",
    "Graphtype = nx.Graph()\n",
    "G_Male = nx.from_pandas_edgelist(df_male, source='start_station_name', target ='end_station_name'\n",
    "                            , edge_attr=['tripduration','bikeid','usertype','birth_year','gender']\n",
    "                            , create_using=nx.MultiDiGraph())\n",
    "\n",
    "leaderboard = {}\n",
    "for x in G_Male.nodes:\n",
    " leaderboard[x] = G_Male.in_degree[x]\n",
    "s = pd.Series(leaderboard, name='in_connections')\n",
    "df_male_2 = s.to_frame().sort_values('in_connections', ascending=False)"
   ]
  },
  {
   "cell_type": "code",
   "execution_count": null,
   "id": "e29bd594",
   "metadata": {},
   "outputs": [],
   "source": [
    "df_male_2.head()"
   ]
  },
  {
   "cell_type": "code",
   "execution_count": null,
   "id": "173be68d",
   "metadata": {},
   "outputs": [],
   "source": [
    "#dataframe having male gender dataset\n",
    "df_female = df[df['gender']=='female']\n",
    "\n",
    "#creating the networkx graph object\n",
    "Graphtype = nx.Graph()\n",
    "G_Female = nx.from_pandas_edgelist(df_female, source='start_station_name', target ='end_station_name'\n",
    "                            , edge_attr=['tripduration','bikeid','usertype','birth_year','gender']\n",
    "                            , create_using=nx.MultiDiGraph())\n",
    "\n",
    "leaderboard = {}\n",
    "for x in G_Female.nodes:\n",
    " leaderboard[x] = G_Female.in_degree[x]\n",
    "s = pd.Series(leaderboard, name='in_connections')\n",
    "df_female_2 = s.to_frame().sort_values('in_connections', ascending=False)"
   ]
  },
  {
   "cell_type": "code",
   "execution_count": null,
   "id": "83af8266",
   "metadata": {},
   "outputs": [],
   "source": [
    "df_female_2.head()"
   ]
  },
  {
   "cell_type": "markdown",
   "id": "3a67ebba",
   "metadata": {},
   "source": [
    "We can see from above that the station \"E 17 St & Broadway\"has the max in connection or degree centrality overall and in male and female gender types."
   ]
  },
  {
   "cell_type": "markdown",
   "id": "4ecc5246",
   "metadata": {},
   "source": [
    "We can further check if this holds true for each user type as Customer = 24-hour pass or 3-day pass user; Subscriber = Annual Member"
   ]
  },
  {
   "cell_type": "code",
   "execution_count": null,
   "id": "d1ac77df",
   "metadata": {},
   "outputs": [],
   "source": [
    "#dataframe having Subscriber usertype dataset\n",
    "df_subscriber = df[df['usertype']=='Subscriber']\n",
    "\n",
    "#creating the networkx graph object\n",
    "Graphtype = nx.Graph()\n",
    "G_Subscriber = nx.from_pandas_edgelist(df_subscriber, source='start_station_name', target ='end_station_name'\n",
    "                            , edge_attr=['tripduration','bikeid','usertype','birth_year','gender']\n",
    "                            , create_using=nx.MultiDiGraph())\n",
    "\n",
    "leaderboard = {}\n",
    "for x in G_Subscriber.nodes:\n",
    " leaderboard[x] = G_Subscriber.in_degree[x]\n",
    "s = pd.Series(leaderboard, name='in_connections')\n",
    "df_subscriber_2 = s.to_frame().sort_values('in_connections', ascending=False)"
   ]
  },
  {
   "cell_type": "code",
   "execution_count": null,
   "id": "b8f89560",
   "metadata": {},
   "outputs": [],
   "source": [
    "df_subscriber_2.head()"
   ]
  },
  {
   "cell_type": "markdown",
   "id": "a5927519",
   "metadata": {},
   "source": [
    "We can see from above that the station \"E 17 St & Broadway\" has the max in connection or degree centrality for user type \"Subscriber\" too."
   ]
  },
  {
   "cell_type": "markdown",
   "id": "5425b521",
   "metadata": {},
   "source": [
    "We will now draw the graph centering at the station \"E 17 St & Broadway\""
   ]
  },
  {
   "cell_type": "code",
   "execution_count": null,
   "id": "68d2179f",
   "metadata": {},
   "outputs": [],
   "source": [
    "#dataframe having 'E 17 St & Broadway' end_station_name dataset\n",
    "df_location = df[df['end_station_name']=='E 17 St & Broadway']\n",
    "df_location = df_location[[\"start_station_name\", \"end_station_name\"]]\n",
    "df_location = df_location.drop_duplicates()\n",
    "\n",
    "#creating the networkx graph object\n",
    "Graphtype = nx.Graph()\n",
    "G_location = nx.from_pandas_edgelist(df_location, source='start_station_name', target ='end_station_name'\n",
    "                            , create_using=nx.DiGraph())"
   ]
  },
  {
   "cell_type": "code",
   "execution_count": null,
   "id": "2d76c459",
   "metadata": {},
   "outputs": [],
   "source": [
    "df_location"
   ]
  },
  {
   "cell_type": "code",
   "execution_count": null,
   "id": "c9a20fa5",
   "metadata": {},
   "outputs": [],
   "source": [
    "figure(figsize=(30, 24))\n",
    "nx.draw_kamada_kawai(G_location, arrows=True, with_labels=True,  node_color='#00b4d9'\n",
    "                     , font_color='red', font_size =25, font_weight='bold')"
   ]
  },
  {
   "cell_type": "markdown",
   "id": "135135cc",
   "metadata": {},
   "source": [
    "---"
   ]
  },
  {
   "cell_type": "markdown",
   "id": "039eaefc-eaeb-4511-9afa-0e8034d8f8c4",
   "metadata": {},
   "source": [
    "<b>Citation: </b> \n",
    "\n",
    "This data is provided according to the NYCBS Data Use Policy. and details can be found on  https://www.citibikenyc.com/system-data"
   ]
  },
  {
   "cell_type": "markdown",
   "id": "86fcce2b-3643-4ff6-bff0-56b78b62a2e7",
   "metadata": {},
   "source": [
    "<b>Additional Resources: </b> \n",
    "\n",
    "- The City of New York's bicycling data (http://www.nyc.gov/html/dot/html/about/datafeeds.shtml#Bikes)\n",
    "- The City of New York's bicycling trip data dumps (https://s3.amazonaws.com/tripdata/index.html)\n",
    "- In Social Network Analysis,  Degree centrality is a simple count of the total number of connections linked to a vertex. It can be thought of as a kind of popularity measure, but a crude one that does not recognize a difference between quantity and quality. Degree centrality does not differentiate between a link to the president of the United States and a link to a high school dropout. Degree is the measure of the total number of edges connected to a particular vertex. For directed networks, there are two measures of degree. In-degree is the number of connections that point inward at a vertex. Out-degree is the number of connections that originate at a vertex and point outward to other vertices.\n",
    "- Degree centrality is one of the easiest to calculate. The degree centrality of a node is simply its degree—the number of edges it has.The higher the degree, the more central the node is. This can be an effective measure, since many nodes with high degrees also have high centrality by other measures.\n"
   ]
  },
  {
   "cell_type": "markdown",
   "id": "269485f3-24d5-4f80-816c-75ddff5f54f9",
   "metadata": {},
   "source": [
    "---"
   ]
  }
 ],
 "metadata": {
  "kernelspec": {
   "display_name": "Python 3",
   "language": "python",
   "name": "python3"
  },
  "language_info": {
   "codemirror_mode": {
    "name": "ipython",
    "version": 3
   },
   "file_extension": ".py",
   "mimetype": "text/x-python",
   "name": "python",
   "nbconvert_exporter": "python",
   "pygments_lexer": "ipython3",
   "version": "3.8.8"
  }
 },
 "nbformat": 4,
 "nbformat_minor": 5
}
