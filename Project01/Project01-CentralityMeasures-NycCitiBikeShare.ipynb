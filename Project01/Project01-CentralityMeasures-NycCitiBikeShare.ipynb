{
 "cells": [
  {
   "cell_type": "markdown",
   "id": "987da827-1567-4f01-806f-687b66c830b4",
   "metadata": {},
   "source": [
    "<b>Web Analytics DATA 620 - Project 01</b>\n",
    "\n",
    "<b>Assignment: “Centrality Measures”</b>\n",
    "\n",
    "<b>Group - Chris Bloome / Mustafa Telab / Vinayak Kamath</b>\n",
    "\n",
    "<b>Date - 20th June 2021</b>\n",
    "\n",
    "--- \n",
    "\n",
    "For your first project, you are asked to\n",
    "\n",
    "Identify and load a network dataset that has some categorical information available for each node.\n",
    "For each of the nodes in the dataset, calculate degree centrality and eigenvector centrality.\n",
    "Compare your centrality measures across your categorical groups.\n"
   ]
  },
  {
   "cell_type": "markdown",
   "id": "707c847e-9c1d-4ba9-b7e0-83c62ab97742",
   "metadata": {},
   "source": [
    "---"
   ]
  },
  {
   "cell_type": "markdown",
   "id": "460459d2-0644-4a9a-8e00-82b82dff0578",
   "metadata": {},
   "source": [
    "<b>Bike Share Systems (BSS) collection - Citi Bike Trip Histories - New York City</b>\n",
    "\n"
   ]
  },
  {
   "cell_type": "markdown",
   "id": "11e0c371-d95c-4d0e-ac10-1e93f1a4281a",
   "metadata": {},
   "source": [
    "Experience NYC in a whole new way - Citi Bike is the nation's largest bike share program, with 20,000 bikes and over 1,300 stations across Manhattan, Brooklyn, Queens, the Bronx and Jersey City. It was designed for quick trips with convenience in mind, and it’s a fun and affordable way to get around town."
   ]
  },
  {
   "cell_type": "markdown",
   "id": "117c592a-0fec-4800-808f-8fe55a34b19b",
   "metadata": {},
   "source": [
    "The source of the data is citibikenyc.com; The csv file <b>data</b> includes:\n",
    "\n",
    " - Trip Duration (seconds)\n",
    " - Start Time and Date\n",
    " - Stop Time and Date\n",
    " - Start Station Name\n",
    " - End Station Name\n",
    " - Station ID\n",
    " - Station Lat/Long\n",
    " - Bike ID\n",
    " - User Type (Customer = 24-hour pass or 3-day pass user; Subscriber = Annual Member)\n",
    " - Gender (Zero=unknown; 1=male; 2=female)\n",
    " - Year of Birth\n",
    "\n",
    "For our analysis here we are using data of April 2021 month.\n",
    "\n",
    "\n",
    "<table  style=\"float:left\">\n",
    "    <tr><th>Name</th><th>Date Modified</th><th>Size</th><th>Type</th></tr>\n",
    "    <tr><td>202104-citibike-tripdata.csv.zip</td><td>May 7th 2021, 10:56:18 am</td><td>89.92 MB</td><td>ZIP file (csv)</td></tr>\n",
    "</table>\n"
   ]
  },
  {
   "cell_type": "markdown",
   "id": "a897189f-eb3a-46fb-8d61-b99e4d427676",
   "metadata": {},
   "source": [
    "<b>Analysis Plan</b>\n",
    "1. We will load the csv data into a temp object and then pull the distinct nodes and its characteristics and the linkages between the nodes.\n",
    "  - The Nodes represent the User, the bikes,  and the Stations. The User node having characterisitics of Type, Gender, and Year of birth and the Station node having the characteristics of  latitude and logitude. The Bike node has no characteristics other then a unique Id.\n",
    "  - The linkages represet the trips between start station and stop station.\n",
    "\n",
    "2. Degree centrality is defined as the Number of incoming links to a node. We can check the station having the maximum number of trips to it and we can further to see if the same station has the maximum degree centrality for each gender type and/or user types. \n"
   ]
  },
  {
   "cell_type": "markdown",
   "id": "7e2782f8-bd35-4ee5-960f-fd731a2fcb6a",
   "metadata": {},
   "source": [
    "---"
   ]
  },
  {
   "cell_type": "code",
   "execution_count": 1,
   "id": "fdc62764",
   "metadata": {},
   "outputs": [],
   "source": [
    "# Import required libraries\n",
    "import networkx as nx\n",
    "import matplotlib.pyplot as plt\n",
    "import pandas as pd\n",
    "import numpy as np\n",
    "\n",
    "from matplotlib.pyplot import figure\n",
    "from networkx_query import search_nodes, search_edges\n",
    "\n",
    "from pyvis.network import Network\n",
    "\n",
    "from tabulate import tabulate\n",
    "\n",
    "from itertools import count"
   ]
  },
  {
   "cell_type": "markdown",
   "id": "c8d8431d",
   "metadata": {},
   "source": [
    "We will firsrt load the data CSV data file into a panda dataframe."
   ]
  },
  {
   "cell_type": "code",
   "execution_count": 2,
   "id": "243644fc",
   "metadata": {},
   "outputs": [],
   "source": [
    "# loading csv file \n",
    "df = pd.read_csv('201306-citibike-tripdata-small.csv')\n",
    "\n",
    "# Droping NAN value rows\n",
    "df = df.replace('',np.nan)\n",
    "df = df.dropna(axis=\"rows\", how=\"any\")\n",
    "\n",
    "# Cleaning up the data for the column `gender` to convert the categorical values Zero=unknown; 1=male; 2=female;\n",
    "df['gender'].replace(to_replace=[0, 1, 2], value=['unknown', 'male', 'female'], inplace=True)"
   ]
  },
  {
   "cell_type": "code",
   "execution_count": 3,
   "id": "c892d876",
   "metadata": {},
   "outputs": [
    {
     "data": {
      "text/html": [
       "<div>\n",
       "<style scoped>\n",
       "    .dataframe tbody tr th:only-of-type {\n",
       "        vertical-align: middle;\n",
       "    }\n",
       "\n",
       "    .dataframe tbody tr th {\n",
       "        vertical-align: top;\n",
       "    }\n",
       "\n",
       "    .dataframe thead th {\n",
       "        text-align: right;\n",
       "    }\n",
       "</style>\n",
       "<table border=\"1\" class=\"dataframe\">\n",
       "  <thead>\n",
       "    <tr style=\"text-align: right;\">\n",
       "      <th></th>\n",
       "      <th>tripduration</th>\n",
       "      <th>starttime</th>\n",
       "      <th>stoptime</th>\n",
       "      <th>start_station_id</th>\n",
       "      <th>start_station_name</th>\n",
       "      <th>start_station_latitude</th>\n",
       "      <th>start_station_longitude</th>\n",
       "      <th>end_station_id</th>\n",
       "      <th>end_station_name</th>\n",
       "      <th>end_station_latitude</th>\n",
       "      <th>end_station_longitude</th>\n",
       "      <th>bikeid</th>\n",
       "      <th>usertype</th>\n",
       "      <th>birth_year</th>\n",
       "      <th>gender</th>\n",
       "    </tr>\n",
       "  </thead>\n",
       "  <tbody>\n",
       "    <tr>\n",
       "      <th>0</th>\n",
       "      <td>695</td>\n",
       "      <td>6/1/2013 0:00</td>\n",
       "      <td>6/1/2013 0:11</td>\n",
       "      <td>444</td>\n",
       "      <td>Broadway &amp; W 24 St</td>\n",
       "      <td>40.742354</td>\n",
       "      <td>-73.989151</td>\n",
       "      <td>434.0</td>\n",
       "      <td>9 Ave &amp; W 18 St</td>\n",
       "      <td>40.743174</td>\n",
       "      <td>-74.003664</td>\n",
       "      <td>19678</td>\n",
       "      <td>Subscriber</td>\n",
       "      <td>1983.0</td>\n",
       "      <td>male</td>\n",
       "    </tr>\n",
       "    <tr>\n",
       "      <th>1</th>\n",
       "      <td>693</td>\n",
       "      <td>6/1/2013 0:00</td>\n",
       "      <td>6/1/2013 0:11</td>\n",
       "      <td>444</td>\n",
       "      <td>Broadway &amp; W 24 St</td>\n",
       "      <td>40.742354</td>\n",
       "      <td>-73.989151</td>\n",
       "      <td>434.0</td>\n",
       "      <td>9 Ave &amp; W 18 St</td>\n",
       "      <td>40.743174</td>\n",
       "      <td>-74.003664</td>\n",
       "      <td>16649</td>\n",
       "      <td>Subscriber</td>\n",
       "      <td>1984.0</td>\n",
       "      <td>male</td>\n",
       "    </tr>\n",
       "    <tr>\n",
       "      <th>3</th>\n",
       "      <td>123</td>\n",
       "      <td>6/1/2013 0:01</td>\n",
       "      <td>6/1/2013 0:03</td>\n",
       "      <td>475</td>\n",
       "      <td>E 15 St &amp; Irving Pl</td>\n",
       "      <td>40.735243</td>\n",
       "      <td>-73.987586</td>\n",
       "      <td>262.0</td>\n",
       "      <td>Washington Park</td>\n",
       "      <td>40.691782</td>\n",
       "      <td>-73.973730</td>\n",
       "      <td>16352</td>\n",
       "      <td>Subscriber</td>\n",
       "      <td>1960.0</td>\n",
       "      <td>male</td>\n",
       "    </tr>\n",
       "    <tr>\n",
       "      <th>4</th>\n",
       "      <td>1521</td>\n",
       "      <td>6/1/2013 0:01</td>\n",
       "      <td>6/1/2013 0:26</td>\n",
       "      <td>2008</td>\n",
       "      <td>Little West St &amp; 1 Pl</td>\n",
       "      <td>40.705693</td>\n",
       "      <td>-74.016777</td>\n",
       "      <td>310.0</td>\n",
       "      <td>State St &amp; Smith St</td>\n",
       "      <td>40.689269</td>\n",
       "      <td>-73.989129</td>\n",
       "      <td>15567</td>\n",
       "      <td>Subscriber</td>\n",
       "      <td>1983.0</td>\n",
       "      <td>male</td>\n",
       "    </tr>\n",
       "    <tr>\n",
       "      <th>6</th>\n",
       "      <td>2057</td>\n",
       "      <td>6/1/2013 0:02</td>\n",
       "      <td>6/1/2013 0:36</td>\n",
       "      <td>285</td>\n",
       "      <td>Broadway &amp; E 14 St</td>\n",
       "      <td>40.734546</td>\n",
       "      <td>-73.990741</td>\n",
       "      <td>532.0</td>\n",
       "      <td>S 5 Pl &amp; S 5 St</td>\n",
       "      <td>40.710451</td>\n",
       "      <td>-73.960876</td>\n",
       "      <td>15693</td>\n",
       "      <td>Subscriber</td>\n",
       "      <td>1991.0</td>\n",
       "      <td>male</td>\n",
       "    </tr>\n",
       "    <tr>\n",
       "      <th>...</th>\n",
       "      <td>...</td>\n",
       "      <td>...</td>\n",
       "      <td>...</td>\n",
       "      <td>...</td>\n",
       "      <td>...</td>\n",
       "      <td>...</td>\n",
       "      <td>...</td>\n",
       "      <td>...</td>\n",
       "      <td>...</td>\n",
       "      <td>...</td>\n",
       "      <td>...</td>\n",
       "      <td>...</td>\n",
       "      <td>...</td>\n",
       "      <td>...</td>\n",
       "      <td>...</td>\n",
       "    </tr>\n",
       "    <tr>\n",
       "      <th>127577</th>\n",
       "      <td>2812</td>\n",
       "      <td>6/11/2013 17:47</td>\n",
       "      <td>6/11/2013 18:34</td>\n",
       "      <td>448</td>\n",
       "      <td>W 37 St &amp; 10 Ave</td>\n",
       "      <td>40.756604</td>\n",
       "      <td>-73.997901</td>\n",
       "      <td>502.0</td>\n",
       "      <td>Henry St &amp; Grand St</td>\n",
       "      <td>40.714215</td>\n",
       "      <td>-73.981346</td>\n",
       "      <td>19361</td>\n",
       "      <td>Subscriber</td>\n",
       "      <td>1963.0</td>\n",
       "      <td>male</td>\n",
       "    </tr>\n",
       "    <tr>\n",
       "      <th>127578</th>\n",
       "      <td>294</td>\n",
       "      <td>6/11/2013 17:48</td>\n",
       "      <td>6/11/2013 17:53</td>\n",
       "      <td>251</td>\n",
       "      <td>Mott St &amp; Prince St</td>\n",
       "      <td>40.723180</td>\n",
       "      <td>-73.994800</td>\n",
       "      <td>128.0</td>\n",
       "      <td>MacDougal St &amp; Prince St</td>\n",
       "      <td>40.727103</td>\n",
       "      <td>-74.002971</td>\n",
       "      <td>17886</td>\n",
       "      <td>Subscriber</td>\n",
       "      <td>1962.0</td>\n",
       "      <td>male</td>\n",
       "    </tr>\n",
       "    <tr>\n",
       "      <th>127579</th>\n",
       "      <td>407</td>\n",
       "      <td>6/11/2013 17:47</td>\n",
       "      <td>6/11/2013 17:54</td>\n",
       "      <td>496</td>\n",
       "      <td>E 16 St &amp; 5 Ave</td>\n",
       "      <td>40.737262</td>\n",
       "      <td>-73.992390</td>\n",
       "      <td>369.0</td>\n",
       "      <td>Washington Pl &amp; 6 Ave</td>\n",
       "      <td>40.732241</td>\n",
       "      <td>-74.000264</td>\n",
       "      <td>16968</td>\n",
       "      <td>Subscriber</td>\n",
       "      <td>1987.0</td>\n",
       "      <td>male</td>\n",
       "    </tr>\n",
       "    <tr>\n",
       "      <th>127580</th>\n",
       "      <td>525</td>\n",
       "      <td>6/11/2013 17:39</td>\n",
       "      <td>6/11/2013 17:47</td>\n",
       "      <td>318</td>\n",
       "      <td>E 43 St &amp; Vanderbilt Ave</td>\n",
       "      <td>40.753202</td>\n",
       "      <td>-73.977987</td>\n",
       "      <td>472.0</td>\n",
       "      <td>E 32 St &amp; Park Ave</td>\n",
       "      <td>40.745712</td>\n",
       "      <td>-73.981948</td>\n",
       "      <td>19928</td>\n",
       "      <td>Subscriber</td>\n",
       "      <td>1959.0</td>\n",
       "      <td>male</td>\n",
       "    </tr>\n",
       "    <tr>\n",
       "      <th>127581</th>\n",
       "      <td>889</td>\n",
       "      <td>6/11/2013 17:47</td>\n",
       "      <td>6/11/2013 18:01</td>\n",
       "      <td>237</td>\n",
       "      <td>E 11 St &amp; 2 Ave</td>\n",
       "      <td>40.730473</td>\n",
       "      <td>-73.986724</td>\n",
       "      <td>469.0</td>\n",
       "      <td>Broadway &amp; W 53 St</td>\n",
       "      <td>40.763441</td>\n",
       "      <td>-73.982681</td>\n",
       "      <td>18068</td>\n",
       "      <td>Subscriber</td>\n",
       "      <td>1962.0</td>\n",
       "      <td>male</td>\n",
       "    </tr>\n",
       "  </tbody>\n",
       "</table>\n",
       "<p>58334 rows × 15 columns</p>\n",
       "</div>"
      ],
      "text/plain": [
       "        tripduration        starttime         stoptime  start_station_id  \\\n",
       "0                695    6/1/2013 0:00    6/1/2013 0:11               444   \n",
       "1                693    6/1/2013 0:00    6/1/2013 0:11               444   \n",
       "3                123    6/1/2013 0:01    6/1/2013 0:03               475   \n",
       "4               1521    6/1/2013 0:01    6/1/2013 0:26              2008   \n",
       "6               2057    6/1/2013 0:02    6/1/2013 0:36               285   \n",
       "...              ...              ...              ...               ...   \n",
       "127577          2812  6/11/2013 17:47  6/11/2013 18:34               448   \n",
       "127578           294  6/11/2013 17:48  6/11/2013 17:53               251   \n",
       "127579           407  6/11/2013 17:47  6/11/2013 17:54               496   \n",
       "127580           525  6/11/2013 17:39  6/11/2013 17:47               318   \n",
       "127581           889  6/11/2013 17:47  6/11/2013 18:01               237   \n",
       "\n",
       "              start_station_name  start_station_latitude  \\\n",
       "0             Broadway & W 24 St               40.742354   \n",
       "1             Broadway & W 24 St               40.742354   \n",
       "3            E 15 St & Irving Pl               40.735243   \n",
       "4          Little West St & 1 Pl               40.705693   \n",
       "6             Broadway & E 14 St               40.734546   \n",
       "...                          ...                     ...   \n",
       "127577          W 37 St & 10 Ave               40.756604   \n",
       "127578       Mott St & Prince St               40.723180   \n",
       "127579           E 16 St & 5 Ave               40.737262   \n",
       "127580  E 43 St & Vanderbilt Ave               40.753202   \n",
       "127581           E 11 St & 2 Ave               40.730473   \n",
       "\n",
       "        start_station_longitude  end_station_id          end_station_name  \\\n",
       "0                    -73.989151           434.0           9 Ave & W 18 St   \n",
       "1                    -73.989151           434.0           9 Ave & W 18 St   \n",
       "3                    -73.987586           262.0           Washington Park   \n",
       "4                    -74.016777           310.0       State St & Smith St   \n",
       "6                    -73.990741           532.0           S 5 Pl & S 5 St   \n",
       "...                         ...             ...                       ...   \n",
       "127577               -73.997901           502.0       Henry St & Grand St   \n",
       "127578               -73.994800           128.0  MacDougal St & Prince St   \n",
       "127579               -73.992390           369.0     Washington Pl & 6 Ave   \n",
       "127580               -73.977987           472.0        E 32 St & Park Ave   \n",
       "127581               -73.986724           469.0        Broadway & W 53 St   \n",
       "\n",
       "        end_station_latitude  end_station_longitude  bikeid    usertype  \\\n",
       "0                  40.743174             -74.003664   19678  Subscriber   \n",
       "1                  40.743174             -74.003664   16649  Subscriber   \n",
       "3                  40.691782             -73.973730   16352  Subscriber   \n",
       "4                  40.689269             -73.989129   15567  Subscriber   \n",
       "6                  40.710451             -73.960876   15693  Subscriber   \n",
       "...                      ...                    ...     ...         ...   \n",
       "127577             40.714215             -73.981346   19361  Subscriber   \n",
       "127578             40.727103             -74.002971   17886  Subscriber   \n",
       "127579             40.732241             -74.000264   16968  Subscriber   \n",
       "127580             40.745712             -73.981948   19928  Subscriber   \n",
       "127581             40.763441             -73.982681   18068  Subscriber   \n",
       "\n",
       "        birth_year gender  \n",
       "0           1983.0   male  \n",
       "1           1984.0   male  \n",
       "3           1960.0   male  \n",
       "4           1983.0   male  \n",
       "6           1991.0   male  \n",
       "...            ...    ...  \n",
       "127577      1963.0   male  \n",
       "127578      1962.0   male  \n",
       "127579      1987.0   male  \n",
       "127580      1959.0   male  \n",
       "127581      1962.0   male  \n",
       "\n",
       "[58334 rows x 15 columns]"
      ]
     },
     "execution_count": 3,
     "metadata": {},
     "output_type": "execute_result"
    }
   ],
   "source": [
    "#taking backup\n",
    "df_original = df\n",
    "\n",
    "# Viewing the data\n",
    "df"
   ]
  },
  {
   "cell_type": "code",
   "execution_count": 4,
   "id": "ceed8387",
   "metadata": {},
   "outputs": [
    {
     "data": {
      "text/html": [
       "<div>\n",
       "<style scoped>\n",
       "    .dataframe tbody tr th:only-of-type {\n",
       "        vertical-align: middle;\n",
       "    }\n",
       "\n",
       "    .dataframe tbody tr th {\n",
       "        vertical-align: top;\n",
       "    }\n",
       "\n",
       "    .dataframe thead th {\n",
       "        text-align: right;\n",
       "    }\n",
       "</style>\n",
       "<table border=\"1\" class=\"dataframe\">\n",
       "  <thead>\n",
       "    <tr style=\"text-align: right;\">\n",
       "      <th></th>\n",
       "      <th>start_station_name</th>\n",
       "      <th>end_station_name</th>\n",
       "      <th>usertype</th>\n",
       "      <th>gender</th>\n",
       "      <th>trips</th>\n",
       "    </tr>\n",
       "  </thead>\n",
       "  <tbody>\n",
       "    <tr>\n",
       "      <th>0</th>\n",
       "      <td>1 Ave &amp; E 16 St</td>\n",
       "      <td>1 Ave &amp; E 16 St</td>\n",
       "      <td>Subscriber</td>\n",
       "      <td>female</td>\n",
       "      <td>2</td>\n",
       "    </tr>\n",
       "    <tr>\n",
       "      <th>1</th>\n",
       "      <td>1 Ave &amp; E 16 St</td>\n",
       "      <td>1 Ave &amp; E 16 St</td>\n",
       "      <td>Subscriber</td>\n",
       "      <td>male</td>\n",
       "      <td>9</td>\n",
       "    </tr>\n",
       "    <tr>\n",
       "      <th>2</th>\n",
       "      <td>1 Ave &amp; E 16 St</td>\n",
       "      <td>1 Ave &amp; E 18 St</td>\n",
       "      <td>Subscriber</td>\n",
       "      <td>female</td>\n",
       "      <td>2</td>\n",
       "    </tr>\n",
       "    <tr>\n",
       "      <th>3</th>\n",
       "      <td>1 Ave &amp; E 16 St</td>\n",
       "      <td>1 Ave &amp; E 18 St</td>\n",
       "      <td>Subscriber</td>\n",
       "      <td>male</td>\n",
       "      <td>4</td>\n",
       "    </tr>\n",
       "    <tr>\n",
       "      <th>4</th>\n",
       "      <td>1 Ave &amp; E 16 St</td>\n",
       "      <td>1 Ave &amp; E 30 St</td>\n",
       "      <td>Subscriber</td>\n",
       "      <td>female</td>\n",
       "      <td>3</td>\n",
       "    </tr>\n",
       "    <tr>\n",
       "      <th>...</th>\n",
       "      <td>...</td>\n",
       "      <td>...</td>\n",
       "      <td>...</td>\n",
       "      <td>...</td>\n",
       "      <td>...</td>\n",
       "    </tr>\n",
       "    <tr>\n",
       "      <th>37099</th>\n",
       "      <td>York St &amp; Jay St</td>\n",
       "      <td>West Thames St</td>\n",
       "      <td>Subscriber</td>\n",
       "      <td>male</td>\n",
       "      <td>1</td>\n",
       "    </tr>\n",
       "    <tr>\n",
       "      <th>37100</th>\n",
       "      <td>York St &amp; Jay St</td>\n",
       "      <td>Wythe Ave &amp; Metropolitan Ave</td>\n",
       "      <td>Subscriber</td>\n",
       "      <td>male</td>\n",
       "      <td>1</td>\n",
       "    </tr>\n",
       "    <tr>\n",
       "      <th>37101</th>\n",
       "      <td>York St &amp; Jay St</td>\n",
       "      <td>Wythe Ave &amp; Metropolitan Ave</td>\n",
       "      <td>Subscriber</td>\n",
       "      <td>unknown</td>\n",
       "      <td>1</td>\n",
       "    </tr>\n",
       "    <tr>\n",
       "      <th>37102</th>\n",
       "      <td>York St &amp; Jay St</td>\n",
       "      <td>York St &amp; Jay St</td>\n",
       "      <td>Subscriber</td>\n",
       "      <td>female</td>\n",
       "      <td>5</td>\n",
       "    </tr>\n",
       "    <tr>\n",
       "      <th>37103</th>\n",
       "      <td>York St &amp; Jay St</td>\n",
       "      <td>York St &amp; Jay St</td>\n",
       "      <td>Subscriber</td>\n",
       "      <td>male</td>\n",
       "      <td>3</td>\n",
       "    </tr>\n",
       "  </tbody>\n",
       "</table>\n",
       "<p>37104 rows × 5 columns</p>\n",
       "</div>"
      ],
      "text/plain": [
       "      start_station_name              end_station_name    usertype   gender  \\\n",
       "0        1 Ave & E 16 St               1 Ave & E 16 St  Subscriber   female   \n",
       "1        1 Ave & E 16 St               1 Ave & E 16 St  Subscriber     male   \n",
       "2        1 Ave & E 16 St               1 Ave & E 18 St  Subscriber   female   \n",
       "3        1 Ave & E 16 St               1 Ave & E 18 St  Subscriber     male   \n",
       "4        1 Ave & E 16 St               1 Ave & E 30 St  Subscriber   female   \n",
       "...                  ...                           ...         ...      ...   \n",
       "37099   York St & Jay St                West Thames St  Subscriber     male   \n",
       "37100   York St & Jay St  Wythe Ave & Metropolitan Ave  Subscriber     male   \n",
       "37101   York St & Jay St  Wythe Ave & Metropolitan Ave  Subscriber  unknown   \n",
       "37102   York St & Jay St              York St & Jay St  Subscriber   female   \n",
       "37103   York St & Jay St              York St & Jay St  Subscriber     male   \n",
       "\n",
       "       trips  \n",
       "0          2  \n",
       "1          9  \n",
       "2          2  \n",
       "3          4  \n",
       "4          3  \n",
       "...      ...  \n",
       "37099      1  \n",
       "37100      1  \n",
       "37101      1  \n",
       "37102      5  \n",
       "37103      3  \n",
       "\n",
       "[37104 rows x 5 columns]"
      ]
     },
     "execution_count": 4,
     "metadata": {},
     "output_type": "execute_result"
    }
   ],
   "source": [
    "# we will aggregrate the data to get a reduced required dataset with the count of trips as an atribute(weight) of the edge. \n",
    "df = df.groupby(['start_station_name','end_station_name','usertype','gender']).size().reset_index(name='trips')\n",
    "\n",
    "# Viewing the data\n",
    "df "
   ]
  },
  {
   "cell_type": "code",
   "execution_count": 5,
   "id": "f8d410e0",
   "metadata": {},
   "outputs": [],
   "source": [
    "# Creating the networkx graph object\n",
    "G = nx.from_pandas_edgelist(df, source='start_station_name', target ='end_station_name'\n",
    "                            , edge_attr=['trips','usertype','gender']\n",
    "                            , create_using=nx.DiGraph(directed=True))"
   ]
  },
  {
   "cell_type": "code",
   "execution_count": 6,
   "id": "e86ba7e7",
   "metadata": {},
   "outputs": [
    {
     "name": "stdout",
     "output_type": "stream",
     "text": [
      "Name: \n",
      "Type: DiGraph\n",
      "Number of nodes: 335\n",
      "Number of edges: 31494\n",
      "Average in degree:  94.0119\n",
      "Average out degree:  94.0119\n"
     ]
    }
   ],
   "source": [
    "print(nx.info(G))"
   ]
  },
  {
   "cell_type": "code",
   "execution_count": 7,
   "id": "a5c23379",
   "metadata": {},
   "outputs": [
    {
     "name": "stdout",
     "output_type": "stream",
     "text": [
      "Network density : 0.28147287514523195\n"
     ]
    }
   ],
   "source": [
    "# A good metric to begin with is network density. This is simply the ratio of actual edges in the network to \n",
    "# all possible edges in the network.\n",
    "density = nx.density(G)\n",
    "print(\"Network density :\", density)"
   ]
  },
  {
   "cell_type": "code",
   "execution_count": 8,
   "id": "5fb3f483",
   "metadata": {},
   "outputs": [
    {
     "name": "stdout",
     "output_type": "stream",
     "text": [
      "Minimum degree : 1\n",
      "Maximum degree : 434\n"
     ]
    },
    {
     "data": {
      "text/plain": [
       "{'whiskers': [<matplotlib.lines.Line2D at 0x14ec0808>,\n",
       "  <matplotlib.lines.Line2D at 0x14ec09b8>],\n",
       " 'caps': [<matplotlib.lines.Line2D at 0x14ec0b68>,\n",
       "  <matplotlib.lines.Line2D at 0x14ec0d18>],\n",
       " 'boxes': [<matplotlib.lines.Line2D at 0x14ec0640>],\n",
       " 'medians': [<matplotlib.lines.Line2D at 0x14ec0ec8>],\n",
       " 'fliers': [<matplotlib.lines.Line2D at 0x14ed50a0>],\n",
       " 'means': []}"
      ]
     },
     "execution_count": 8,
     "metadata": {},
     "output_type": "execute_result"
    },
    {
     "data": {
      "image/png": "[encoded data removed]",
      "text/plain": [
       "<Figure size 432x288 with 1 Axes>"
      ]
     },
     "metadata": {
      "needs_background": "light"
     },
     "output_type": "display_data"
    }
   ],
   "source": [
    "# compute  degree metric to find the core of the network:\n",
    "deg=nx.degree(G) \n",
    "deg_min = min(dict(deg).values())\n",
    "deg_max = max(dict(deg).values()) \n",
    "print(\"Minimum degree :\", deg_min)\n",
    "print(\"Maximum degree :\", deg_max)\n",
    "\n",
    "my_degrees = G.degree();\n",
    "degree_values = dict(my_degrees).values()\n",
    "fig = plt.figure();\n",
    "plt.boxplot(degree_values)"
   ]
  },
  {
   "cell_type": "code",
   "execution_count": 9,
   "id": "44e71691",
   "metadata": {},
   "outputs": [
    {
     "data": {
      "image/png": "[encoded data removed]",
      "text/plain": [
       "<Figure size 432x288 with 1 Axes>"
      ]
     },
     "metadata": {
      "needs_background": "light"
     },
     "output_type": "display_data"
    }
   ],
   "source": [
    "# display the histogram of node degrees in 100 bins:\n",
    "h=plt.hist(dict(my_degrees).values(),100) "
   ]
  },
  {
   "cell_type": "code",
   "execution_count": 10,
   "id": "f62bc042",
   "metadata": {},
   "outputs": [
    {
     "name": "stdout",
     "output_type": "stream",
     "text": [
      "False\n"
     ]
    }
   ],
   "source": [
    "# Another check we can do is to see if our Graph has more than one component:\n",
    "print(nx.is_connected(G.to_undirected()))"
   ]
  },
  {
   "cell_type": "markdown",
   "id": "f76835cf",
   "metadata": {},
   "source": [
    "Next, we’ll materialize the graph we created with the help of pyvis.network for formatting."
   ]
  },
  {
   "cell_type": "code",
   "execution_count": 11,
   "id": "d5837895",
   "metadata": {},
   "outputs": [
    {
     "data": {
      "text/html": [
       "\n",
       "        <iframe\n",
       "            width=\"500px\"\n",
       "            height=\"500px\"\n",
       "            src=\"nx.html\"\n",
       "            frameborder=\"0\"\n",
       "            allowfullscreen\n",
       "        ></iframe>\n",
       "        "
      ],
      "text/plain": [
       "<IPython.lib.display.IFrame at 0x165a3430>"
      ]
     },
     "execution_count": 11,
     "metadata": {},
     "output_type": "execute_result"
    }
   ],
   "source": [
    "nt = Network(notebook=True)\n",
    "nt.from_nx(G)\n",
    "nt.show('nx.html')"
   ]
  },
  {
   "cell_type": "markdown",
   "id": "ae0f3f5a",
   "metadata": {},
   "source": [
    "---"
   ]
  },
  {
   "cell_type": "markdown",
   "id": "6119d63a",
   "metadata": {},
   "source": [
    "<b>1. We will now analyze Degree centrality for our graph as defined as the Number of links to a node. We can check the station having the maximum number of trips to it by using the idegree method.</b>"
   ]
  },
  {
   "cell_type": "code",
   "execution_count": 12,
   "id": "6d1e09f2",
   "metadata": {},
   "outputs": [],
   "source": [
    "leaderboard = {}\n",
    "for x in G.nodes:\n",
    " leaderboard[x] = G.degree[x]\n",
    "s = pd.Series(leaderboard, name='connections')\n",
    "df2 = s.to_frame().sort_values('connections', ascending=False)"
   ]
  },
  {
   "cell_type": "code",
   "execution_count": 13,
   "id": "39701da1",
   "metadata": {},
   "outputs": [
    {
     "data": {
      "text/html": [
       "<div>\n",
       "<style scoped>\n",
       "    .dataframe tbody tr th:only-of-type {\n",
       "        vertical-align: middle;\n",
       "    }\n",
       "\n",
       "    .dataframe tbody tr th {\n",
       "        vertical-align: top;\n",
       "    }\n",
       "\n",
       "    .dataframe thead th {\n",
       "        text-align: right;\n",
       "    }\n",
       "</style>\n",
       "<table border=\"1\" class=\"dataframe\">\n",
       "  <thead>\n",
       "    <tr style=\"text-align: right;\">\n",
       "      <th></th>\n",
       "      <th>connections</th>\n",
       "    </tr>\n",
       "  </thead>\n",
       "  <tbody>\n",
       "    <tr>\n",
       "      <th>W 20 St &amp; 11 Ave</th>\n",
       "      <td>434</td>\n",
       "    </tr>\n",
       "    <tr>\n",
       "      <th>E 17 St &amp; Broadway</th>\n",
       "      <td>422</td>\n",
       "    </tr>\n",
       "    <tr>\n",
       "      <th>Broadway &amp; E 14 St</th>\n",
       "      <td>399</td>\n",
       "    </tr>\n",
       "    <tr>\n",
       "      <th>8 Ave &amp; W 31 St N</th>\n",
       "      <td>387</td>\n",
       "    </tr>\n",
       "    <tr>\n",
       "      <th>Broadway &amp; W 24 St</th>\n",
       "      <td>383</td>\n",
       "    </tr>\n",
       "  </tbody>\n",
       "</table>\n",
       "</div>"
      ],
      "text/plain": [
       "                    connections\n",
       "W 20 St & 11 Ave            434\n",
       "E 17 St & Broadway          422\n",
       "Broadway & E 14 St          399\n",
       "8 Ave & W 31 St N           387\n",
       "Broadway & W 24 St          383"
      ]
     },
     "execution_count": 13,
     "metadata": {},
     "output_type": "execute_result"
    }
   ],
   "source": [
    "df2.head()"
   ]
  },
  {
   "cell_type": "markdown",
   "id": "d2c9e694",
   "metadata": {},
   "source": [
    "Based on above we can see that \"W 20 St & 11 Ave\" has the max in connection or degree centrality for the month of April, 2021.\n",
    "\n",
    "we can further check if this holds true for each gender type and/or user types"
   ]
  },
  {
   "cell_type": "code",
   "execution_count": 14,
   "id": "f02f8678",
   "metadata": {},
   "outputs": [],
   "source": [
    "# we will create a funciton that will take the datframe, column name and search string as input and generate a graph\n",
    "# to get us the in-connection stats:\n",
    "def get_top_in_connection(df,  inp_column, inp_text):\n",
    "    #dataframe having inp_text in column inp_column in dataset df\n",
    "    df_search = df[df[inp_column]==inp_text]\n",
    "    \n",
    "    #creating the networkx graph object\n",
    "    G_search = nx.from_pandas_edgelist(df_search, source='start_station_name', target ='end_station_name'\n",
    "                            , edge_attr=['trips','usertype','gender']\n",
    "                            , create_using=nx.DiGraph())\n",
    "    \n",
    "    leaderboard = {}\n",
    "    for x in G_search.nodes:\n",
    "        leaderboard[x] = G_search.degree[x]\n",
    "    \n",
    "    s = pd.Series(leaderboard, name='connections')\n",
    "    df_search_return = s.to_frame().sort_values('connections', ascending=False)\n",
    "    \n",
    "    return df_search_return"
   ]
  },
  {
   "cell_type": "code",
   "execution_count": 15,
   "id": "2860ff72",
   "metadata": {},
   "outputs": [
    {
     "data": {
      "text/html": [
       "<div>\n",
       "<style scoped>\n",
       "    .dataframe tbody tr th:only-of-type {\n",
       "        vertical-align: middle;\n",
       "    }\n",
       "\n",
       "    .dataframe tbody tr th {\n",
       "        vertical-align: top;\n",
       "    }\n",
       "\n",
       "    .dataframe thead th {\n",
       "        text-align: right;\n",
       "    }\n",
       "</style>\n",
       "<table border=\"1\" class=\"dataframe\">\n",
       "  <thead>\n",
       "    <tr style=\"text-align: right;\">\n",
       "      <th></th>\n",
       "      <th>connections</th>\n",
       "    </tr>\n",
       "  </thead>\n",
       "  <tbody>\n",
       "    <tr>\n",
       "      <th>W 20 St &amp; 11 Ave</th>\n",
       "      <td>390</td>\n",
       "    </tr>\n",
       "    <tr>\n",
       "      <th>E 17 St &amp; Broadway</th>\n",
       "      <td>388</td>\n",
       "    </tr>\n",
       "    <tr>\n",
       "      <th>Broadway &amp; E 14 St</th>\n",
       "      <td>357</td>\n",
       "    </tr>\n",
       "    <tr>\n",
       "      <th>Broadway &amp; W 24 St</th>\n",
       "      <td>350</td>\n",
       "    </tr>\n",
       "    <tr>\n",
       "      <th>8 Ave &amp; W 31 St N</th>\n",
       "      <td>348</td>\n",
       "    </tr>\n",
       "  </tbody>\n",
       "</table>\n",
       "</div>"
      ],
      "text/plain": [
       "                    connections\n",
       "W 20 St & 11 Ave            390\n",
       "E 17 St & Broadway          388\n",
       "Broadway & E 14 St          357\n",
       "Broadway & W 24 St          350\n",
       "8 Ave & W 31 St N           348"
      ]
     },
     "execution_count": 15,
     "metadata": {},
     "output_type": "execute_result"
    }
   ],
   "source": [
    "#Checking for male gender dataset\n",
    "df_check = get_top_in_connection(df,  'gender', 'male')\n",
    "df_check.head()\n",
    "\n",
    "# Does hold True for Male Gender Category of data"
   ]
  },
  {
   "cell_type": "code",
   "execution_count": 16,
   "id": "05703257",
   "metadata": {},
   "outputs": [
    {
     "data": {
      "text/html": [
       "<div>\n",
       "<style scoped>\n",
       "    .dataframe tbody tr th:only-of-type {\n",
       "        vertical-align: middle;\n",
       "    }\n",
       "\n",
       "    .dataframe tbody tr th {\n",
       "        vertical-align: top;\n",
       "    }\n",
       "\n",
       "    .dataframe thead th {\n",
       "        text-align: right;\n",
       "    }\n",
       "</style>\n",
       "<table border=\"1\" class=\"dataframe\">\n",
       "  <thead>\n",
       "    <tr style=\"text-align: right;\">\n",
       "      <th></th>\n",
       "      <th>connections</th>\n",
       "    </tr>\n",
       "  </thead>\n",
       "  <tbody>\n",
       "    <tr>\n",
       "      <th>E 17 St &amp; Broadway</th>\n",
       "      <td>203</td>\n",
       "    </tr>\n",
       "    <tr>\n",
       "      <th>Broadway &amp; E 14 St</th>\n",
       "      <td>190</td>\n",
       "    </tr>\n",
       "    <tr>\n",
       "      <th>W 20 St &amp; 11 Ave</th>\n",
       "      <td>184</td>\n",
       "    </tr>\n",
       "    <tr>\n",
       "      <th>Broadway &amp; W 24 St</th>\n",
       "      <td>158</td>\n",
       "    </tr>\n",
       "    <tr>\n",
       "      <th>Broadway &amp; W 58 St</th>\n",
       "      <td>153</td>\n",
       "    </tr>\n",
       "  </tbody>\n",
       "</table>\n",
       "</div>"
      ],
      "text/plain": [
       "                    connections\n",
       "E 17 St & Broadway          203\n",
       "Broadway & E 14 St          190\n",
       "W 20 St & 11 Ave            184\n",
       "Broadway & W 24 St          158\n",
       "Broadway & W 58 St          153"
      ]
     },
     "execution_count": 16,
     "metadata": {},
     "output_type": "execute_result"
    }
   ],
   "source": [
    "#Checking for female gender dataset\n",
    "df_check = get_top_in_connection(df,  'gender', 'female')\n",
    "df_check.head()\n",
    "\n",
    "# Does NOT hold True for Female Gender Category of data"
   ]
  },
  {
   "cell_type": "code",
   "execution_count": 17,
   "id": "cb8dbdab",
   "metadata": {},
   "outputs": [
    {
     "data": {
      "text/html": [
       "<div>\n",
       "<style scoped>\n",
       "    .dataframe tbody tr th:only-of-type {\n",
       "        vertical-align: middle;\n",
       "    }\n",
       "\n",
       "    .dataframe tbody tr th {\n",
       "        vertical-align: top;\n",
       "    }\n",
       "\n",
       "    .dataframe thead th {\n",
       "        text-align: right;\n",
       "    }\n",
       "</style>\n",
       "<table border=\"1\" class=\"dataframe\">\n",
       "  <thead>\n",
       "    <tr style=\"text-align: right;\">\n",
       "      <th></th>\n",
       "      <th>connections</th>\n",
       "    </tr>\n",
       "  </thead>\n",
       "  <tbody>\n",
       "    <tr>\n",
       "      <th>Madison St &amp; Clinton St</th>\n",
       "      <td>8</td>\n",
       "    </tr>\n",
       "    <tr>\n",
       "      <th>Pearl St &amp; Hanover Square</th>\n",
       "      <td>7</td>\n",
       "    </tr>\n",
       "    <tr>\n",
       "      <th>South St &amp; Gouverneur Ln</th>\n",
       "      <td>7</td>\n",
       "    </tr>\n",
       "    <tr>\n",
       "      <th>Pike St &amp; E Broadway</th>\n",
       "      <td>6</td>\n",
       "    </tr>\n",
       "    <tr>\n",
       "      <th>Canal St &amp; Rutgers St</th>\n",
       "      <td>6</td>\n",
       "    </tr>\n",
       "  </tbody>\n",
       "</table>\n",
       "</div>"
      ],
      "text/plain": [
       "                           connections\n",
       "Madison St & Clinton St              8\n",
       "Pearl St & Hanover Square            7\n",
       "South St & Gouverneur Ln             7\n",
       "Pike St & E Broadway                 6\n",
       "Canal St & Rutgers St                6"
      ]
     },
     "execution_count": 17,
     "metadata": {},
     "output_type": "execute_result"
    }
   ],
   "source": [
    "#Checking for unknown gender dataset\n",
    "df_check = get_top_in_connection(df,  'gender', 'unknown')\n",
    "df_check.head()\n",
    "\n",
    "# Does NOT hold True for unknown Gender Category of data"
   ]
  },
  {
   "cell_type": "markdown",
   "id": "3a67ebba",
   "metadata": {},
   "source": [
    "We can see from above that the station \"W 20 St & 11 Ave\" has the max connection or degree centrality overall  and in male gender types; but for female and unknown it does NOT."
   ]
  },
  {
   "cell_type": "markdown",
   "id": "4ecc5246",
   "metadata": {},
   "source": [
    "We can further check if this holds true for each user type as Customer = 24-hour pass or 3-day pass user; Subscriber = Annual Member"
   ]
  },
  {
   "cell_type": "code",
   "execution_count": 18,
   "id": "f5ecdc75",
   "metadata": {},
   "outputs": [
    {
     "data": {
      "text/html": [
       "<div>\n",
       "<style scoped>\n",
       "    .dataframe tbody tr th:only-of-type {\n",
       "        vertical-align: middle;\n",
       "    }\n",
       "\n",
       "    .dataframe tbody tr th {\n",
       "        vertical-align: top;\n",
       "    }\n",
       "\n",
       "    .dataframe thead th {\n",
       "        text-align: right;\n",
       "    }\n",
       "</style>\n",
       "<table border=\"1\" class=\"dataframe\">\n",
       "  <thead>\n",
       "    <tr style=\"text-align: right;\">\n",
       "      <th></th>\n",
       "      <th>connections</th>\n",
       "    </tr>\n",
       "  </thead>\n",
       "  <tbody>\n",
       "    <tr>\n",
       "      <th>W 20 St &amp; 11 Ave</th>\n",
       "      <td>434</td>\n",
       "    </tr>\n",
       "    <tr>\n",
       "      <th>E 17 St &amp; Broadway</th>\n",
       "      <td>422</td>\n",
       "    </tr>\n",
       "    <tr>\n",
       "      <th>Broadway &amp; E 14 St</th>\n",
       "      <td>399</td>\n",
       "    </tr>\n",
       "    <tr>\n",
       "      <th>8 Ave &amp; W 31 St N</th>\n",
       "      <td>387</td>\n",
       "    </tr>\n",
       "    <tr>\n",
       "      <th>Broadway &amp; W 24 St</th>\n",
       "      <td>383</td>\n",
       "    </tr>\n",
       "  </tbody>\n",
       "</table>\n",
       "</div>"
      ],
      "text/plain": [
       "                    connections\n",
       "W 20 St & 11 Ave            434\n",
       "E 17 St & Broadway          422\n",
       "Broadway & E 14 St          399\n",
       "8 Ave & W 31 St N           387\n",
       "Broadway & W 24 St          383"
      ]
     },
     "execution_count": 18,
     "metadata": {},
     "output_type": "execute_result"
    }
   ],
   "source": [
    "#Checking for Subscriber usertype dataset\n",
    "df_check = get_top_in_connection(df,  'usertype', 'Subscriber')\n",
    "df_check.head()\n",
    "\n",
    "# Does hold True for Subscriber usertype Category of data"
   ]
  },
  {
   "cell_type": "markdown",
   "id": "a5927519",
   "metadata": {},
   "source": [
    "We can see from above that the station \"W 20 St & 11 Ave\" has the max in connection or degree centrality for user type \"Subscriber\" too."
   ]
  },
  {
   "cell_type": "markdown",
   "id": "abddc0fa",
   "metadata": {},
   "source": [
    "---"
   ]
  },
  {
   "cell_type": "markdown",
   "id": "a09231c7",
   "metadata": {},
   "source": [
    "<b>2. Centrality Measures - degree_centrality(),  eigenvector_centrality(), betweenness_centrality(), and closeness_centrality()</b>\n",
    "\n",
    "The <b>degree centrality</b> for a node v is the fraction of nodes it is connected to. We can use the function to check that \"E 17 St & Broadway\" is the node or station having max connections.\n",
    "\n",
    "<b>Eigenvector centrality</b> (also called eigencentrality) is a measure of the influence of a node in a network. It assigns relative scores to all nodes in the network based on the concept that connections to high-scoring nodes contribute more to the score of the node in question than equal connections to low-scoring nodes\n",
    "\n",
    "<b>Betweenness Centrality</b> computes the shortest-path betweenness centrality for nodes.\n",
    "\n",
    "<b>Closeness Centrality</b> is the reciprocal of the sum of the shortest path distances from the node to all other nodes. "
   ]
  },
  {
   "cell_type": "code",
   "execution_count": 19,
   "id": "7b8258d7",
   "metadata": {},
   "outputs": [
    {
     "data": {
      "text/plain": [
       "[('W 20 St & 11 Ave', 1.2994011976047906),\n",
       " ('E 17 St & Broadway', 1.2634730538922156),\n",
       " ('Broadway & E 14 St', 1.194610778443114),\n",
       " ('8 Ave & W 31 St N', 1.158682634730539),\n",
       " ('Broadway & W 24 St', 1.1467065868263473),\n",
       " ('Broadway & E 22 St', 1.1287425149700598),\n",
       " ('Lafayette St & E 8 St', 1.0808383233532934),\n",
       " ('9 Ave & W 22 St', 1.068862275449102),\n",
       " ('Carmine St & 6 Ave', 1.068862275449102),\n",
       " ('Christopher St & Greenwich St', 1.0658682634730539)]"
      ]
     },
     "execution_count": 19,
     "metadata": {},
     "output_type": "execute_result"
    }
   ],
   "source": [
    "d=nx.degree_centrality(G )\n",
    "dc_sorted_tuples = sorted(d.items(), key=lambda item: item[1], reverse=True)\n",
    "dc_sorted_dict = {k: v for k, v in dc_sorted_tuples}\n",
    "\n",
    "dc_sorted_dict_items = dc_sorted_dict.items()\n",
    "list(dc_sorted_dict_items)[:10]"
   ]
  },
  {
   "cell_type": "code",
   "execution_count": 20,
   "id": "580f8017",
   "metadata": {},
   "outputs": [
    {
     "data": {
      "text/plain": [
       "[('W 20 St & 11 Ave', 0.1117139644742664),\n",
       " ('E 17 St & Broadway', 0.10912680753785574),\n",
       " ('8 Ave & W 31 St N', 0.10505974957788784),\n",
       " ('Broadway & W 24 St', 0.10320052481551106),\n",
       " ('Broadway & E 14 St', 0.1025910652116625),\n",
       " ('9 Ave & W 22 St', 0.09905809606851307),\n",
       " ('Broadway & E 22 St', 0.09811623193860353),\n",
       " ('Carmine St & 6 Ave', 0.09524613011236538),\n",
       " ('W 41 St & 8 Ave', 0.09339085069581286),\n",
       " ('Christopher St & Greenwich St', 0.09284541133680066)]"
      ]
     },
     "execution_count": 20,
     "metadata": {},
     "output_type": "execute_result"
    }
   ],
   "source": [
    "e=nx.eigenvector_centrality(G )\n",
    "ec_sorted_tuples = sorted(e.items(), key=lambda item: item[1], reverse=True)\n",
    "ec_sorted_dict = {k: v for k, v in ec_sorted_tuples}\n",
    "\n",
    "ec_sorted_dict_items = ec_sorted_dict.items()\n",
    "list(ec_sorted_dict_items)[:10]"
   ]
  },
  {
   "cell_type": "code",
   "execution_count": 35,
   "id": "8c655d8f",
   "metadata": {},
   "outputs": [
    {
     "data": {
      "text/plain": [
       "[('E 17 St & Broadway', 0.19774907268234648),\n",
       " ('Broadway & E 14 St', 0.15260111768582327),\n",
       " ('W 20 St & 11 Ave', 0.14777216196211918),\n",
       " ('8 Ave & W 31 St N', 0.14383855485835226),\n",
       " ('Broadway & W 24 St', 0.1421275984759473),\n",
       " ('Broadway & W 58 St', 0.13097185278277484),\n",
       " ('9 Ave & W 22 St', 0.1299628034612758),\n",
       " ('Broadway & E 22 St', 0.12952956834936),\n",
       " ('Lafayette St & E 8 St', 0.12662433396715694),\n",
       " ('West Thames St', 0.11610099554115151)]"
      ]
     },
     "execution_count": 35,
     "metadata": {},
     "output_type": "execute_result"
    }
   ],
   "source": [
    "# with using the count information in column trips as weight:\n",
    "e=nx.eigenvector_centrality(G , weight='trips')\n",
    "ec_sorted_tuples = sorted(e.items(), key=lambda item: item[1], reverse=True)\n",
    "ec_sorted_dict = {k: v for k, v in ec_sorted_tuples}\n",
    "\n",
    "ec_sorted_dict_items = ec_sorted_dict.items()\n",
    "list(ec_sorted_dict_items)[:10]"
   ]
  },
  {
   "cell_type": "code",
   "execution_count": 36,
   "id": "d8ab38ae",
   "metadata": {},
   "outputs": [
    {
     "data": {
      "text/plain": [
       "[('W 20 St & 11 Ave', 0.007842569817622281),\n",
       " ('Forsyth St & Canal St', 0.007739885628498429),\n",
       " ('St Marks Pl & 2 Ave', 0.007620027955204589),\n",
       " ('Hicks St & Montague St', 0.007543723188296435),\n",
       " ('DeKalb Ave & Hudson Ave', 0.007033731323142462),\n",
       " ('Carmine St & 6 Ave', 0.006804482225544252),\n",
       " ('Lawrence St & Willoughby St', 0.006623354873073668),\n",
       " ('9 Ave & W 22 St', 0.006466932643565205),\n",
       " ('Dean St & 4 Ave', 0.006359782341465243),\n",
       " ('Cadman Plaza West & Montague St', 0.006119839057328119)]"
      ]
     },
     "execution_count": 36,
     "metadata": {},
     "output_type": "execute_result"
    }
   ],
   "source": [
    "b=nx.betweenness_centrality(G, weight='trips' )\n",
    "bc_sorted_tuples = sorted(b.items(), key=lambda item: item[1], reverse=True)\n",
    "bc_sorted_dict = {k: v for k, v in bc_sorted_tuples}\n",
    "\n",
    "bc_sorted_dict_items = bc_sorted_dict.items()\n",
    "list(bc_sorted_dict_items)[:10]"
   ]
  },
  {
   "cell_type": "code",
   "execution_count": 38,
   "id": "b0bcaa7c",
   "metadata": {},
   "outputs": [
    {
     "data": {
      "text/plain": [
       "[('W 20 St & 11 Ave', 0.742736004501065),\n",
       " ('E 17 St & Broadway', 0.7280767412543334),\n",
       " ('8 Ave & W 31 St N', 0.7124527768497341),\n",
       " ('Broadway & E 14 St', 0.7048895838895457),\n",
       " ('Broadway & W 24 St', 0.7048895838895457),\n",
       " ('9 Ave & W 22 St', 0.6859565991982977),\n",
       " ('Carmine St & 6 Ave', 0.6859565991982977),\n",
       " ('Broadway & E 22 St', 0.684542255694796),\n",
       " ('W 41 St & 8 Ave', 0.6761771772138006),\n",
       " ('Christopher St & Greenwich St', 0.674802833357675)]"
      ]
     },
     "execution_count": 38,
     "metadata": {},
     "output_type": "execute_result"
    }
   ],
   "source": [
    "c=nx.closeness_centrality(G  )\n",
    "cc_sorted_tuples = sorted(c.items(), key=lambda item: item[1], reverse=True)\n",
    "cc_sorted_dict = {k: v for k, v in cc_sorted_tuples}\n",
    "cc_sorted_dict_items = cc_sorted_dict.items()\n",
    "list(cc_sorted_dict_items)[:10]"
   ]
  },
  {
   "cell_type": "markdown",
   "id": "00a19b47",
   "metadata": {},
   "source": [
    "degree_centrality      ==>   'W 20 St & 11 Ave': 1.2994011976047906\n",
    "\n",
    "eigenvector_centrality ==>   'W 20 St & 11 Ave': 0.11171396447426644\n",
    "\n",
    "betweenness_centrality ==>   'W 20 St & 11 Ave': 0.010687074666681623\n",
    "\n",
    "closeness_centrality   ==>   'W 20 St & 11 Ave': 0.742736004501065\n",
    "\n",
    "Per above, the station \"W 20 St & 11 Ave\" has the highest degree centrality and eligenvector centrality"
   ]
  },
  {
   "cell_type": "code",
   "execution_count": 23,
   "id": "c3b326a5",
   "metadata": {},
   "outputs": [
    {
     "name": "stdout",
     "output_type": "stream",
     "text": [
      "Station                          Degree    Eigenvector    Betweeness    Closeness\n",
      "-----------------------------  --------  -------------  ------------  -----------\n",
      "W 20 St & 11 Ave                1.2994       0.111714     0.0106871      0.742736\n",
      "E 17 St & Broadway              1.26347      0.109127     0.00960894     0.728077\n",
      "Broadway & E 14 St              1.19461      0.102591     0.00935588     0.70489\n",
      "Broadway & E 22 St              1.12874      0.0981162    0.00655404     0.684542\n",
      "Lafayette St & E 8 St           1.08084      0.0888004    0.00685309     0.670713\n",
      "Broadway & W 24 St              1.14671      0.103201     0.00678791     0.70489\n",
      "8 Ave & W 31 St N               1.15868      0.10506      0.00755138     0.712453\n",
      "Broadway & W 58 St              1.02695      0.0869158    0.00466332     0.649712\n",
      "West Thames St                  1.0509       0.0888274    0.00578822     0.668014\n",
      "Christopher St & Greenwich St   1.06587      0.0928454    0.0058369      0.674803\n"
     ]
    }
   ],
   "source": [
    "## We will now make a list of the stations for 4 centrality metrics \n",
    "\n",
    "names1= {}\n",
    "names2= {}\n",
    "names3= {}\n",
    "names4= {}\n",
    "\n",
    "for key, value in dc_sorted_dict.items():\n",
    "    names1[key]= value\n",
    "\n",
    "for key, value in ec_sorted_dict.items():\n",
    "    names2[key]= value\n",
    "\n",
    "for key, value in bc_sorted_dict.items():\n",
    "    names3[key]= value\n",
    "\n",
    "for key, value in cc_sorted_dict.items():\n",
    "    names4[key]= value\n",
    "    \n",
    "## use Python sets to compute a union of the sets \n",
    "#names=list(set(names1) | set(names2)| set(names3)| set(names4)  )\n",
    "## use the networksx vorterrank function to get a sorted list of nodes based on its influence ranking:\n",
    "names =nx.voterank(G)\n",
    "\n",
    "## build a table with centralities \n",
    "table=[[name,d[name],e[name],b[name],c[name] ] for name in names[:10]]\n",
    "\n",
    "print (tabulate(table, headers= [\"Station\", \"Degree\", \"Eigenvector\"\n",
    "                                 , \"Betweeness\", \"Closeness\"])) "
   ]
  },
  {
   "cell_type": "markdown",
   "id": "3b5a30ba",
   "metadata": {},
   "source": [
    "p.s.: Another Centrality measure we can check to coinfirm above is using VoteRank; which gives a list of influential nodes in a graph using VoteRank algorithm using the function - nx.voterank(Graph)"
   ]
  },
  {
   "cell_type": "markdown",
   "id": "63796ca0",
   "metadata": {},
   "source": [
    "Based on this we can see that 'W 20 St & 11 Ave' and 'E 17 St & Broadway' are the top two influential nodes."
   ]
  },
  {
   "cell_type": "markdown",
   "id": "ff332d6c",
   "metadata": {},
   "source": [
    "We will now find the above centrality metrics for the categorical atrributes:"
   ]
  },
  {
   "cell_type": "code",
   "execution_count": 39,
   "id": "e15eddb3",
   "metadata": {},
   "outputs": [],
   "source": [
    "# We will create a function that will take the dataframe as input and the filter params and create the graph and calcualte the \n",
    "# centrality metrics and display as output\n",
    "\n",
    "def get_centrality(df,  inp_column, inp_text):\n",
    "    #dataframe having inp_text in column inp_column in dataset df\n",
    "    df_search = df[df[inp_column]==inp_text]\n",
    "    \n",
    "    #creating the networkx graph object\n",
    "    G_search = nx.from_pandas_edgelist(df_search, source='start_station_name', target ='end_station_name'\n",
    "                            , edge_attr=['trips','usertype','gender']\n",
    "                            , create_using=nx.DiGraph()) \n",
    "    \n",
    "    d=nx.degree_centrality(G_search)\n",
    "    dc_sorted_tuples = sorted(d.items(), key=lambda item: item[1], reverse=True)\n",
    "    dc_sorted_dict = {k: v for k, v in dc_sorted_tuples}\n",
    "    \n",
    "    e=nx.eigenvector_centrality(G_search, weight='trips')\n",
    "    ec_sorted_tuples = sorted(e.items(), key=lambda item: item[1], reverse=True)\n",
    "    ec_sorted_dict = {k: v for k, v in ec_sorted_tuples}\n",
    "    \n",
    "    b=nx.betweenness_centrality(G_search , weight='trips')\n",
    "    bc_sorted_tuples = sorted(b.items(), key=lambda item: item[1], reverse=True)\n",
    "    bc_sorted_dict = {k: v for k, v in bc_sorted_tuples}\n",
    "    \n",
    "    c=nx.closeness_centrality(G_search )\n",
    "    cc_sorted_tuples = sorted(c.items(), key=lambda item: item[1], reverse=True)\n",
    "    cc_sorted_dict = {k: v for k, v in cc_sorted_tuples}\n",
    "\n",
    "    ## We will now make a list of the stations for 4 centrality metrics \n",
    "\n",
    "    names1= {}\n",
    "    names2= {}\n",
    "    names3= {}\n",
    "    names4= {}\n",
    "\n",
    "    for key, value in dc_sorted_dict.items():\n",
    "        names1[key]= value\n",
    "\n",
    "    for key, value in ec_sorted_dict.items():\n",
    "        names2[key]= value\n",
    "\n",
    "    for key, value in bc_sorted_dict.items():\n",
    "        names3[key]= value\n",
    "\n",
    "    for key, value in cc_sorted_dict.items():\n",
    "        names4[key]= value\n",
    "\n",
    "    ## use Python sets to compute a union of the sets \n",
    "    #names=list(set(names1) | set(names2)| set(names3)| set(names4)  )\n",
    "    ## use the networksx vorterrank function to get a sorted list of nodes based on its influence ranking:\n",
    "    names =nx.voterank(G_search)\n",
    "\n",
    "    ## build a table with centralities \n",
    "    table=[[name,d[name],e[name],b[name],c[name] ] for name in names[:10]]\n",
    "\n",
    "    print (tabulate(table, headers= [\"Station\", \"Degree\", \"Eigenvector\"\n",
    "                                     , \"Betweeness\", \"Closeness\"])) \n",
    "    "
   ]
  },
  {
   "cell_type": "code",
   "execution_count": 40,
   "id": "cb55d915",
   "metadata": {},
   "outputs": [
    {
     "name": "stdout",
     "output_type": "stream",
     "text": [
      "Station                          Degree    Eigenvector    Betweeness    Closeness\n",
      "-----------------------------  --------  -------------  ------------  -----------\n",
      "W 20 St & 11 Ave               1.17117        0.149206    0.00875786     0.707006\n",
      "E 17 St & Broadway             1.16517        0.209831    0.00540423     0.707006\n",
      "Broadway & E 14 St             1.07207        0.156727    0.0054185      0.672727\n",
      "Broadway & W 24 St             1.05105        0.147664    0.00524601     0.678208\n",
      "Broadway & E 22 St             0.996997       0.133524    0.00470579     0.656805\n",
      "Lafayette St & E 8 St          0.993994       0.131568    0.00663368     0.658103\n",
      "Christopher St & Greenwich St  0.954955       0.114579    0.00465141     0.644101\n",
      "Broadway & W 58 St             0.93994        0.136111    0.00376368     0.636711\n",
      "8 Ave & W 31 St N              1.04505        0.154418    0.00453553     0.685185\n",
      "9 Ave & W 22 St                0.957958       0.134559    0.00624324     0.650391\n"
     ]
    }
   ],
   "source": [
    "#Checking for male gender dataset\n",
    "get_centrality(df,  'gender', 'male')"
   ]
  },
  {
   "cell_type": "code",
   "execution_count": 41,
   "id": "40728a7e",
   "metadata": {},
   "outputs": [
    {
     "name": "stdout",
     "output_type": "stream",
     "text": [
      "Station                     Degree    Eigenvector    Betweeness    Closeness\n",
      "------------------------  --------  -------------  ------------  -----------\n",
      "E 17 St & Broadway        0.615152      0.223047     0.0169827      0.587819\n",
      "Broadway & E 14 St        0.575758      0.188043     0.0224483      0.571434\n",
      "W 20 St & 11 Ave          0.557576      0.158936     0.0213977      0.561649\n",
      "Broadway & W 58 St        0.463636      0.149208     0.0103256      0.529892\n",
      "Cleveland Pl & Spring St  0.442424      0.131736     0.012977       0.538593\n",
      "West Thames St            0.40303       0.13282      0.0105685      0.522298\n",
      "Broadway & E 22 St        0.463636      0.1407       0.0173526      0.547584\n",
      "Lafayette St & E 8 St     0.4           0.118185     0.0108459      0.525646\n",
      "Broadway & W 24 St        0.478788      0.149521     0.0137799      0.558779\n",
      "W 21 St & 6 Ave           0.372727      0.0986609    0.00878899     0.523967\n"
     ]
    }
   ],
   "source": [
    "#Checking for female gender dataset\n",
    "get_centrality(df,  'gender', 'female')"
   ]
  },
  {
   "cell_type": "code",
   "execution_count": 42,
   "id": "bbcef91b",
   "metadata": {},
   "outputs": [
    {
     "name": "stdout",
     "output_type": "stream",
     "text": [
      "Station                          Degree    Eigenvector    Betweeness    Closeness\n",
      "-----------------------------  --------  -------------  ------------  -----------\n",
      "W 20 St & 11 Ave                1.2994        0.147772    0.00784257     0.742736\n",
      "E 17 St & Broadway              1.26347       0.197749    0.00521822     0.728077\n",
      "Broadway & E 14 St              1.19461       0.152601    0.00547794     0.70489\n",
      "Broadway & E 22 St              1.12874       0.12953     0.00509163     0.684542\n",
      "Lafayette St & E 8 St           1.08084       0.126624    0.00545737     0.670713\n",
      "Broadway & W 24 St              1.14671       0.142128    0.00463604     0.70489\n",
      "8 Ave & W 31 St N               1.15868       0.143839    0.00446978     0.712453\n",
      "Broadway & W 58 St              1.02695       0.130972    0.00319141     0.649712\n",
      "West Thames St                  1.0509        0.116101    0.00503319     0.668014\n",
      "Christopher St & Greenwich St   1.06587       0.113772    0.00484067     0.674803\n"
     ]
    }
   ],
   "source": [
    "#Checking for Subscriber usertype dataset\n",
    "get_centrality(df,  'usertype', 'Subscriber')"
   ]
  },
  {
   "cell_type": "markdown",
   "id": "cead64c9",
   "metadata": {},
   "source": [
    "We can see from above that the station \"W 20 St & 11 Ave\" has the max connection or degree centrality overall  and in male gender types; but for female it does NOT.\n",
    "\n",
    "We can see from above that the station \"W 20 St & 11 Ave\" has the max in connection or degree centrality for user type \"Subscriber\" too."
   ]
  },
  {
   "cell_type": "markdown",
   "id": "715061bf",
   "metadata": {},
   "source": [
    "---"
   ]
  },
  {
   "cell_type": "markdown",
   "id": "604461b9",
   "metadata": {},
   "source": [
    "<b>Some Additional analysis on the graph generated:</b>"
   ]
  },
  {
   "cell_type": "markdown",
   "id": "bc2695c9",
   "metadata": {},
   "source": [
    "<b>a. Drawing the graph for the Bike with bike-id \"15484\"</b>"
   ]
  },
  {
   "cell_type": "code",
   "execution_count": 28,
   "id": "68d2179f",
   "metadata": {},
   "outputs": [],
   "source": [
    "#dataframe having 'E 17 St & Broadway' end_station_name dataset\n",
    "df_location = df_original[   df_original['bikeid'] == 15484 ]\n",
    "df_location = df_location[[\"start_station_name\", \"end_station_name\",\"gender\"]]\n",
    "df_location = df_location.drop_duplicates()\n",
    "\n",
    "#creating the networkx graph object\n",
    "G_location = nx.from_pandas_edgelist(df_location, source='start_station_name', target ='end_station_name'\n",
    "                                     , edge_attr=['gender']\n",
    "                                     , create_using=nx.DiGraph()\n",
    "                                    )"
   ]
  },
  {
   "cell_type": "code",
   "execution_count": 29,
   "id": "2d76c459",
   "metadata": {},
   "outputs": [
    {
     "data": {
      "text/html": [
       "<div>\n",
       "<style scoped>\n",
       "    .dataframe tbody tr th:only-of-type {\n",
       "        vertical-align: middle;\n",
       "    }\n",
       "\n",
       "    .dataframe tbody tr th {\n",
       "        vertical-align: top;\n",
       "    }\n",
       "\n",
       "    .dataframe thead th {\n",
       "        text-align: right;\n",
       "    }\n",
       "</style>\n",
       "<table border=\"1\" class=\"dataframe\">\n",
       "  <thead>\n",
       "    <tr style=\"text-align: right;\">\n",
       "      <th></th>\n",
       "      <th>start_station_name</th>\n",
       "      <th>end_station_name</th>\n",
       "      <th>gender</th>\n",
       "    </tr>\n",
       "  </thead>\n",
       "  <tbody>\n",
       "    <tr>\n",
       "      <th>1859</th>\n",
       "      <td>5 Ave &amp; E 29 St</td>\n",
       "      <td>Broadway &amp; E 22 St</td>\n",
       "      <td>male</td>\n",
       "    </tr>\n",
       "    <tr>\n",
       "      <th>2090</th>\n",
       "      <td>Broadway &amp; E 22 St</td>\n",
       "      <td>W 43 St &amp; 10 Ave</td>\n",
       "      <td>male</td>\n",
       "    </tr>\n",
       "    <tr>\n",
       "      <th>4880</th>\n",
       "      <td>W 43 St &amp; 10 Ave</td>\n",
       "      <td>W 39 St &amp; 9 Ave</td>\n",
       "      <td>male</td>\n",
       "    </tr>\n",
       "    <tr>\n",
       "      <th>10490</th>\n",
       "      <td>W 13 St &amp; 6 Ave</td>\n",
       "      <td>8 Ave &amp; W 31 St N</td>\n",
       "      <td>male</td>\n",
       "    </tr>\n",
       "    <tr>\n",
       "      <th>10632</th>\n",
       "      <td>8 Ave &amp; W 31 St N</td>\n",
       "      <td>W 13 St &amp; 6 Ave</td>\n",
       "      <td>male</td>\n",
       "    </tr>\n",
       "    <tr>\n",
       "      <th>13447</th>\n",
       "      <td>Cleveland Pl &amp; Spring St</td>\n",
       "      <td>Forsyth St &amp; Broome St</td>\n",
       "      <td>male</td>\n",
       "    </tr>\n",
       "    <tr>\n",
       "      <th>14823</th>\n",
       "      <td>E 53 St &amp; Lexington Ave</td>\n",
       "      <td>W 43 St &amp; 10 Ave</td>\n",
       "      <td>male</td>\n",
       "    </tr>\n",
       "    <tr>\n",
       "      <th>16738</th>\n",
       "      <td>W 4 St &amp; 7 Ave S</td>\n",
       "      <td>DeKalb Ave &amp; Hudson Ave</td>\n",
       "      <td>male</td>\n",
       "    </tr>\n",
       "    <tr>\n",
       "      <th>24918</th>\n",
       "      <td>Suffolk St &amp; Stanton St</td>\n",
       "      <td>E 10 St &amp; Avenue A</td>\n",
       "      <td>female</td>\n",
       "    </tr>\n",
       "    <tr>\n",
       "      <th>24951</th>\n",
       "      <td>E 10 St &amp; Avenue A</td>\n",
       "      <td>Lafayette St &amp; E 8 St</td>\n",
       "      <td>male</td>\n",
       "    </tr>\n",
       "    <tr>\n",
       "      <th>26683</th>\n",
       "      <td>1 Ave &amp; E 30 St</td>\n",
       "      <td>W 25 St &amp; 6 Ave</td>\n",
       "      <td>male</td>\n",
       "    </tr>\n",
       "    <tr>\n",
       "      <th>26763</th>\n",
       "      <td>W 25 St &amp; 6 Ave</td>\n",
       "      <td>2 Ave &amp; E 31 St</td>\n",
       "      <td>male</td>\n",
       "    </tr>\n",
       "    <tr>\n",
       "      <th>26850</th>\n",
       "      <td>2 Ave &amp; E 31 St</td>\n",
       "      <td>E 17 St &amp; Broadway</td>\n",
       "      <td>male</td>\n",
       "    </tr>\n",
       "    <tr>\n",
       "      <th>27086</th>\n",
       "      <td>E 17 St &amp; Broadway</td>\n",
       "      <td>2 Ave &amp; E 31 St</td>\n",
       "      <td>male</td>\n",
       "    </tr>\n",
       "    <tr>\n",
       "      <th>28942</th>\n",
       "      <td>2 Ave &amp; E 31 St</td>\n",
       "      <td>1 Ave &amp; E 16 St</td>\n",
       "      <td>male</td>\n",
       "    </tr>\n",
       "    <tr>\n",
       "      <th>31466</th>\n",
       "      <td>1 Ave &amp; E 16 St</td>\n",
       "      <td>Greenwich Ave &amp; Charles St</td>\n",
       "      <td>female</td>\n",
       "    </tr>\n",
       "    <tr>\n",
       "      <th>31835</th>\n",
       "      <td>Greenwich Ave &amp; Charles St</td>\n",
       "      <td>E 4 St &amp; 2 Ave</td>\n",
       "      <td>male</td>\n",
       "    </tr>\n",
       "    <tr>\n",
       "      <th>34150</th>\n",
       "      <td>S 3 St &amp; Bedford Ave</td>\n",
       "      <td>W 42 St &amp; 8 Ave</td>\n",
       "      <td>male</td>\n",
       "    </tr>\n",
       "    <tr>\n",
       "      <th>47584</th>\n",
       "      <td>Warren St &amp; Church St</td>\n",
       "      <td>W 46 St &amp; 11 Ave</td>\n",
       "      <td>male</td>\n",
       "    </tr>\n",
       "    <tr>\n",
       "      <th>49015</th>\n",
       "      <td>W 46 St &amp; 11 Ave</td>\n",
       "      <td>W 20 St &amp; 8 Ave</td>\n",
       "      <td>male</td>\n",
       "    </tr>\n",
       "    <tr>\n",
       "      <th>62383</th>\n",
       "      <td>Washington Square E</td>\n",
       "      <td>Christopher St &amp; Greenwich St</td>\n",
       "      <td>male</td>\n",
       "    </tr>\n",
       "    <tr>\n",
       "      <th>84104</th>\n",
       "      <td>W 56 St &amp; 6 Ave</td>\n",
       "      <td>6 Ave &amp; Broome St</td>\n",
       "      <td>male</td>\n",
       "    </tr>\n",
       "    <tr>\n",
       "      <th>88232</th>\n",
       "      <td>2 Ave &amp; E 31 St</td>\n",
       "      <td>Bank St &amp; Hudson St</td>\n",
       "      <td>male</td>\n",
       "    </tr>\n",
       "    <tr>\n",
       "      <th>91778</th>\n",
       "      <td>Lafayette St &amp; E 8 St</td>\n",
       "      <td>St Marks Pl &amp; 2 Ave</td>\n",
       "      <td>male</td>\n",
       "    </tr>\n",
       "    <tr>\n",
       "      <th>124204</th>\n",
       "      <td>Broadway &amp; E 14 St</td>\n",
       "      <td>E 52 St &amp; 2 Ave</td>\n",
       "      <td>female</td>\n",
       "    </tr>\n",
       "    <tr>\n",
       "      <th>124621</th>\n",
       "      <td>E 52 St &amp; 2 Ave</td>\n",
       "      <td>Lispenard St &amp; Broadway</td>\n",
       "      <td>male</td>\n",
       "    </tr>\n",
       "  </tbody>\n",
       "</table>\n",
       "</div>"
      ],
      "text/plain": [
       "                start_station_name               end_station_name  gender\n",
       "1859               5 Ave & E 29 St             Broadway & E 22 St    male\n",
       "2090            Broadway & E 22 St               W 43 St & 10 Ave    male\n",
       "4880              W 43 St & 10 Ave                W 39 St & 9 Ave    male\n",
       "10490              W 13 St & 6 Ave              8 Ave & W 31 St N    male\n",
       "10632            8 Ave & W 31 St N                W 13 St & 6 Ave    male\n",
       "13447     Cleveland Pl & Spring St         Forsyth St & Broome St    male\n",
       "14823      E 53 St & Lexington Ave               W 43 St & 10 Ave    male\n",
       "16738             W 4 St & 7 Ave S        DeKalb Ave & Hudson Ave    male\n",
       "24918      Suffolk St & Stanton St             E 10 St & Avenue A  female\n",
       "24951           E 10 St & Avenue A          Lafayette St & E 8 St    male\n",
       "26683              1 Ave & E 30 St                W 25 St & 6 Ave    male\n",
       "26763              W 25 St & 6 Ave                2 Ave & E 31 St    male\n",
       "26850              2 Ave & E 31 St             E 17 St & Broadway    male\n",
       "27086           E 17 St & Broadway                2 Ave & E 31 St    male\n",
       "28942              2 Ave & E 31 St                1 Ave & E 16 St    male\n",
       "31466              1 Ave & E 16 St     Greenwich Ave & Charles St  female\n",
       "31835   Greenwich Ave & Charles St                 E 4 St & 2 Ave    male\n",
       "34150         S 3 St & Bedford Ave                W 42 St & 8 Ave    male\n",
       "47584        Warren St & Church St               W 46 St & 11 Ave    male\n",
       "49015             W 46 St & 11 Ave                W 20 St & 8 Ave    male\n",
       "62383          Washington Square E  Christopher St & Greenwich St    male\n",
       "84104              W 56 St & 6 Ave              6 Ave & Broome St    male\n",
       "88232              2 Ave & E 31 St            Bank St & Hudson St    male\n",
       "91778        Lafayette St & E 8 St            St Marks Pl & 2 Ave    male\n",
       "124204          Broadway & E 14 St                E 52 St & 2 Ave  female\n",
       "124621             E 52 St & 2 Ave        Lispenard St & Broadway    male"
      ]
     },
     "execution_count": 29,
     "metadata": {},
     "output_type": "execute_result"
    }
   ],
   "source": [
    "df_location"
   ]
  },
  {
   "cell_type": "code",
   "execution_count": 30,
   "id": "2bb5c52b",
   "metadata": {},
   "outputs": [
    {
     "name": "stdout",
     "output_type": "stream",
     "text": [
      "Name: \n",
      "Type: DiGraph\n",
      "Number of nodes: 35\n",
      "Number of edges: 26\n",
      "Average in degree:   0.7429\n",
      "Average out degree:   0.7429\n"
     ]
    }
   ],
   "source": [
    "print(nx.info(G_location))"
   ]
  },
  {
   "cell_type": "code",
   "execution_count": 31,
   "id": "80f79fba",
   "metadata": {},
   "outputs": [],
   "source": [
    "# And I need to transform my categorical column in a numerical value typeA->1, typeB->2...\n",
    "df_location['gender']=pd.Categorical(df_location['gender'])"
   ]
  },
  {
   "cell_type": "code",
   "execution_count": 32,
   "id": "c9a20fa5",
   "metadata": {},
   "outputs": [
    {
     "data": {
      "image/png": "[encoded data removed]",
      "text/plain": [
       "<Figure size 1440x1440 with 1 Axes>"
      ]
     },
     "metadata": {},
     "output_type": "display_data"
    }
   ],
   "source": [
    "plt.figure(figsize=(20, 20))\n",
    "nx.draw(G_location, with_labels=True,node_color='lightgreen', edge_color=df_location['gender'].cat.codes)\n"
   ]
  },
  {
   "cell_type": "markdown",
   "id": "1d79920a",
   "metadata": {},
   "source": [
    "We know that the bikes are taken for servicing and then placed back at the station; its not always the same station. \n",
    "\n",
    "The above graph helps confirms this."
   ]
  },
  {
   "cell_type": "markdown",
   "id": "b6513607",
   "metadata": {},
   "source": [
    "---"
   ]
  },
  {
   "cell_type": "markdown",
   "id": "c8809fe2",
   "metadata": {},
   "source": [
    "<b>b. Getting the Path between 2 Stations based on People trip between these stations</b>"
   ]
  },
  {
   "cell_type": "code",
   "execution_count": 33,
   "id": "b0d18703",
   "metadata": {},
   "outputs": [
    {
     "name": "stdout",
     "output_type": "stream",
     "text": [
      "Shortest path between 'West Thames St' and 'Macon St & Nostrand Ave': ['West Thames St', '2 Ave & E 31 St', 'Macon St & Nostrand Ave']\n",
      "Length of that path: 2\n"
     ]
    }
   ],
   "source": [
    "# We can quickly check to see how to get the path (shortest may not be right here as we dont have distance and only duration)\n",
    "# between two stations. \n",
    "p_path = nx.shortest_path(G, source=\"West Thames St\", target=\"Macon St & Nostrand Ave\")\n",
    "\n",
    "print(\"Shortest path between 'West Thames St' and 'Macon St & Nostrand Ave':\", p_path)\n",
    "print(\"Length of that path:\", len(p_path)-1)"
   ]
  },
  {
   "cell_type": "markdown",
   "id": "135135cc",
   "metadata": {},
   "source": [
    "---"
   ]
  },
  {
   "cell_type": "markdown",
   "id": "039eaefc-eaeb-4511-9afa-0e8034d8f8c4",
   "metadata": {},
   "source": [
    "<b>Video Presentation Link: </b> \n",
    "\n",
    "[Youtube Link](https://www.youtube.com/watch?v=EFQ-TF-eJM4)"
   ]
  },
  {
   "cell_type": "markdown",
   "id": "2ff39c49",
   "metadata": {},
   "source": [
    "<b>Citation: </b> \n",
    "\n",
    "This data is provided according to the NYCBS Data Use Policy. and details can be found on  https://www.citibikenyc.com/system-data"
   ]
  },
  {
   "cell_type": "markdown",
   "id": "86fcce2b-3643-4ff6-bff0-56b78b62a2e7",
   "metadata": {},
   "source": [
    "<b>Additional Resources: </b> \n",
    "\n",
    "- The City of New York's bicycling data (http://www.nyc.gov/html/dot/html/about/datafeeds.shtml#Bikes)\n",
    "- The City of New York's bicycling trip data dumps (https://s3.amazonaws.com/tripdata/index.html)\n",
    "- In Social Network Analysis,  Degree centrality is a simple count of the total number of connections linked to a vertex. It can be thought of as a kind of popularity measure, but a crude one that does not recognize a difference between quantity and quality. Degree centrality does not differentiate between a link to the president of the United States and a link to a high school dropout. Degree is the measure of the total number of edges connected to a particular vertex. For directed networks, there are two measures of degree. In-degree is the number of connections that point inward at a vertex. Out-degree is the number of connections that originate at a vertex and point outward to other vertices.\n",
    "- Degree centrality is one of the easiest to calculate. The degree centrality of a node is simply its degree—the number of edges it has.The higher the degree, the more central the node is. This can be an effective measure, since many nodes with high degrees also have high centrality by other measures.\n"
   ]
  },
  {
   "cell_type": "markdown",
   "id": "269485f3-24d5-4f80-816c-75ddff5f54f9",
   "metadata": {},
   "source": [
    "---"
   ]
  }
 ],
 "metadata": {
  "kernelspec": {
   "display_name": "Python 3",
   "language": "python",
   "name": "python3"
  },
  "language_info": {
   "codemirror_mode": {
    "name": "ipython",
    "version": 3
   },
   "file_extension": ".py",
   "mimetype": "text/x-python",
   "name": "python",
   "nbconvert_exporter": "python",
   "pygments_lexer": "ipython3",
   "version": "3.8.8"
  }
 },
 "nbformat": 4,
 "nbformat_minor": 5
}
