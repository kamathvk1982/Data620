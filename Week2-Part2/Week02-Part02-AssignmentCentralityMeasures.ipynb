{
 "cells": [
  {
   "cell_type": "markdown",
   "id": "987da827-1567-4f01-806f-687b66c830b4",
   "metadata": {},
   "source": [
    "<b>Web Analytics DATA 620 - Week 02 - Part 02</b>\n",
    "\n",
    "<b>Assignment: “Centrality Measures”</b>\n",
    "\n",
    "<b>Group - Chris Bloome / Mustafa Telab / Vinayak Kamath</b>\n",
    "\n",
    "<b>Date - 13th June 2021</b>\n",
    "\n",
    "--- \n",
    "\n",
    "Centrality measures can be used to predict (positive or negative) outcomes for a node.\n",
    "\n",
    "Your task in this week’s assignment is to identify an interesting set of network data that is available on the web (either through web scraping or web APIs) that could be used for analyzing and comparing centrality measures across nodes.  As an additional constraint, there should be at least one categorical variable available for each node (such as “Male” or “Female”; “Republican”, “Democrat,” or “Undecided”, etc.)\n",
    "\n",
    "In addition to identifying your data source, you should create a high level plan that describes how you would load the data for analysis, and describe a hypothetical outcome that could be predicted from comparing degree centrality across categorical groups. .\n"
   ]
  },
  {
   "cell_type": "markdown",
   "id": "707c847e-9c1d-4ba9-b7e0-83c62ab97742",
   "metadata": {},
   "source": [
    "---"
   ]
  },
  {
   "cell_type": "markdown",
   "id": "460459d2-0644-4a9a-8e00-82b82dff0578",
   "metadata": {},
   "source": [
    "<b>Bike Share Systems (BSS) collection - Citi Bike Trip Histories - New York City</b>\n",
    "\n"
   ]
  },
  {
   "cell_type": "markdown",
   "id": "11e0c371-d95c-4d0e-ac10-1e93f1a4281a",
   "metadata": {},
   "source": [
    "Experience NYC in a whole new way - Citi Bike is the nation's largest bike share program, with 20,000 bikes and over 1,300 stations across Manhattan, Brooklyn, Queens, the Bronx and Jersey City. It was designed for quick trips with convenience in mind, and it’s a fun and affordable way to get around town."
   ]
  },
  {
   "cell_type": "markdown",
   "id": "117c592a-0fec-4800-808f-8fe55a34b19b",
   "metadata": {},
   "source": [
    "<b>Data Source</b>\n",
    "\n",
    "The source of the data is citibikenyc.com; The csv file <b>data</b> includes:\n",
    "\n",
    " - Trip Duration (seconds)\n",
    " - Start Time and Date\n",
    " - Stop Time and Date\n",
    " - Start Station Name\n",
    " - End Station Name\n",
    " - Station ID\n",
    " - Station Lat/Long\n",
    " - Bike ID\n",
    " - User Type (Customer = 24-hour pass or 3-day pass user; Subscriber = Annual Member)\n",
    " - Gender (Zero=unknown; 1=male; 2=female)\n",
    " - Year of Birth\n",
    "\n",
    "For our analysis here we are using data of April 2021 month.\n",
    "\n",
    "\n",
    "<table  style=\"float:left\">\n",
    "    <tr><th>Name</th><th>Date Modified</th><th>Size</th><th>Type</th></tr>\n",
    "    <tr><td>202104-citibike-tripdata.csv.zip</td><td>May 7th 2021, 10:56:18 am</td><td>89.92 MB</td><td>ZIP file (csv)</td></tr>\n",
    "</table>\n"
   ]
  },
  {
   "cell_type": "markdown",
   "id": "a897189f-eb3a-46fb-8d61-b99e4d427676",
   "metadata": {},
   "source": [
    "<b>Analysis Plan</b>\n",
    "1. We will load the csv data into a temp object and then pull the distinct nodes and its characteristics and the linkages between the nodes.\n",
    "  - The Nodes represent the User, the bikes,  and the Stations. The User node having characterisitics of Type, Gender, and Year of birth and the Station node having the characteristics of  latitude and logitude. The Bike node has no characteristics other then a unique Id.\n",
    "  - The linkages represet the trips between start station and stop station.\n",
    "\n",
    "\n",
    "2. Degree centrality is defined as the Number of incoming links to a node. We can check the station having the maximum number of trips to it and we can further to see if the same station has the maximum degree centrality for each gender type and/or user types. \n"
   ]
  },
  {
   "cell_type": "markdown",
   "id": "832a2bb9",
   "metadata": {},
   "source": [
    "<b>Presentation Video Link</b>\n",
    "\n",
    "[Youtube Link](https://youtu.be/qGMRQ7CAIC0)\n"
   ]
  },
  {
   "cell_type": "markdown",
   "id": "7e2782f8-bd35-4ee5-960f-fd731a2fcb6a",
   "metadata": {},
   "source": [
    "---"
   ]
  },
  {
   "cell_type": "markdown",
   "id": "039eaefc-eaeb-4511-9afa-0e8034d8f8c4",
   "metadata": {},
   "source": [
    "<b>Citation: </b> \n",
    "\n",
    "This data is provided according to the NYCBS Data Use Policy. and details can be found on  https://www.citibikenyc.com/system-data"
   ]
  },
  {
   "cell_type": "markdown",
   "id": "86fcce2b-3643-4ff6-bff0-56b78b62a2e7",
   "metadata": {},
   "source": [
    "<b>Additional Resources: </b> \n",
    "\n",
    "- The City of New York's bicycling data (http://www.nyc.gov/html/dot/html/about/datafeeds.shtml#Bikes)\n",
    "- The City of New York's bicycling trip data dumps (https://s3.amazonaws.com/tripdata/index.html)\n",
    "- In Social Network Analysis,  Degree centrality is a simple count of the total number of connections linked to a vertex. It can be thought of as a kind of popularity measure, but a crude one that does not recognize a difference between quantity and quality. Degree centrality does not differentiate between a link to the president of the United States and a link to a high school dropout. Degree is the measure of the total number of edges connected to a particular vertex. For directed networks, there are two measures of degree. In-degree is the number of connections that point inward at a vertex. Out-degree is the number of connections that originate at a vertex and point outward to other vertices.\n",
    "- Degree centrality is one of the easiest to calculate. The degree centrality of a node is simply its degree—the number of edges it has.The higher the degree, the more central the node is. This can be an effective measure, since many nodes with high degrees also have high centrality by other measures.\n"
   ]
  },
  {
   "cell_type": "markdown",
   "id": "269485f3-24d5-4f80-816c-75ddff5f54f9",
   "metadata": {},
   "source": [
    "---"
   ]
  }
 ],
 "metadata": {
  "kernelspec": {
   "display_name": "Python 3",
   "language": "python",
   "name": "python3"
  },
  "language_info": {
   "codemirror_mode": {
    "name": "ipython",
    "version": 3
   },
   "file_extension": ".py",
   "mimetype": "text/x-python",
   "name": "python",
   "nbconvert_exporter": "python",
   "pygments_lexer": "ipython3",
   "version": "3.8.8"
  }
 },
 "nbformat": 4,
 "nbformat_minor": 5
}
